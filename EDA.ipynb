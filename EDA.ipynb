{
 "cells": [
  {
   "cell_type": "markdown",
   "id": "b8f6e83d-712c-46de-9da5-123dd7fe5a26",
   "metadata": {},
   "source": [
    "# **Exploratory Data Analysis**"
   ]
  },
  {
   "cell_type": "markdown",
   "id": "12489188",
   "metadata": {},
   "source": [
    "**BY: Kajol Rafi, Emile Pascoe, Elliot Martin, Christian Durán**\n",
    "\n",
    "_Big Data in Media Technology_"
   ]
  },
  {
   "cell_type": "code",
   "execution_count": 2,
   "id": "016bb71f-7652-4317-bd86-c9da4d28b0f9",
   "metadata": {},
   "outputs": [],
   "source": [
    "import pandas as pd\n",
    "import numpy as np\n",
    "import matplotlib.pyplot as plt\n",
    "import seaborn as sns\n",
    "\n",
    "import warnings\n",
    "warnings.filterwarnings('ignore')"
   ]
  },
  {
   "cell_type": "markdown",
   "id": "27d1a200",
   "metadata": {},
   "source": [
    "## Initial Data Exploration"
   ]
  },
  {
   "cell_type": "code",
   "execution_count": 3,
   "id": "9121fef4",
   "metadata": {},
   "outputs": [],
   "source": [
    "# Reading wine data and loading it into a dataframe\n",
    "df = pd.read_csv('wine_reviews.csv')"
   ]
  },
  {
   "cell_type": "code",
   "execution_count": 4,
   "id": "e12cae01",
   "metadata": {},
   "outputs": [
    {
     "data": {
      "text/html": [
       "<div>\n",
       "<style scoped>\n",
       "    .dataframe tbody tr th:only-of-type {\n",
       "        vertical-align: middle;\n",
       "    }\n",
       "\n",
       "    .dataframe tbody tr th {\n",
       "        vertical-align: top;\n",
       "    }\n",
       "\n",
       "    .dataframe thead th {\n",
       "        text-align: right;\n",
       "    }\n",
       "</style>\n",
       "<table border=\"1\" class=\"dataframe\">\n",
       "  <thead>\n",
       "    <tr style=\"text-align: right;\">\n",
       "      <th></th>\n",
       "      <th>Name</th>\n",
       "      <th>Variety</th>\n",
       "      <th>Origin</th>\n",
       "      <th>Attr_1</th>\n",
       "      <th>Attr_2</th>\n",
       "      <th>Alcohol_vol</th>\n",
       "      <th>Alcohol_percentage</th>\n",
       "      <th>Winemaker_notes</th>\n",
       "      <th>Review</th>\n",
       "      <th>Avg_rating</th>\n",
       "      <th>N_ratings</th>\n",
       "      <th>Price_Out-of-stock</th>\n",
       "      <th>Price</th>\n",
       "    </tr>\n",
       "  </thead>\n",
       "  <tbody>\n",
       "    <tr>\n",
       "      <th>0</th>\n",
       "      <td>Chateau Du Caillau Cahors 2021</td>\n",
       "      <td>Malbec</td>\n",
       "      <td>Cahors, Southwest, France</td>\n",
       "      <td>Red Wine</td>\n",
       "      <td>Green Wine</td>\n",
       "      <td>750.0</td>\n",
       "      <td>13.0</td>\n",
       "      <td>Deep intense ruby color. Ripe fruit on the nos...</td>\n",
       "      <td>COMMENTARY: The 2021 Chateau du Caillau is gen...</td>\n",
       "      <td>5.0</td>\n",
       "      <td>19.0</td>\n",
       "      <td>13.99</td>\n",
       "      <td>21.99</td>\n",
       "    </tr>\n",
       "    <tr>\n",
       "      <th>1</th>\n",
       "      <td>Coates and Seely Brut Reserve</td>\n",
       "      <td>Non-Vintage Sparkling Wine</td>\n",
       "      <td>England</td>\n",
       "      <td>Sparkling &amp; Champagne</td>\n",
       "      <td>NaN</td>\n",
       "      <td>750.0</td>\n",
       "      <td>12.0</td>\n",
       "      <td>A blend of Chardonnay and Pinot Noir, with res...</td>\n",
       "      <td>There's no rule that English sparkling wines m...</td>\n",
       "      <td>4.4</td>\n",
       "      <td>33.0</td>\n",
       "      <td>41.99</td>\n",
       "      <td>NaN</td>\n",
       "    </tr>\n",
       "    <tr>\n",
       "      <th>2</th>\n",
       "      <td>Emilio Moro Polvorete 2022</td>\n",
       "      <td>Godello</td>\n",
       "      <td>Bierzo, Spain</td>\n",
       "      <td>White Wine</td>\n",
       "      <td>NaN</td>\n",
       "      <td>750.0</td>\n",
       "      <td>13.5</td>\n",
       "      <td>NaN</td>\n",
       "      <td>A round and balanced white with green apples, ...</td>\n",
       "      <td>4.8</td>\n",
       "      <td>14.0</td>\n",
       "      <td>17.99</td>\n",
       "      <td>19.99</td>\n",
       "    </tr>\n",
       "    <tr>\n",
       "      <th>3</th>\n",
       "      <td>Bodegas La Purisma Old Vines Red Blend 2019</td>\n",
       "      <td>Other Red Blends</td>\n",
       "      <td>Yecla, Spain</td>\n",
       "      <td>Red Wine</td>\n",
       "      <td>NaN</td>\n",
       "      <td>750.0</td>\n",
       "      <td>14.5</td>\n",
       "      <td>La Purisima has a gorgeous black cherry color,...</td>\n",
       "      <td>An excellent blend with 85% monastrell, 10% sy...</td>\n",
       "      <td>4.4</td>\n",
       "      <td>56.0</td>\n",
       "      <td>10.99</td>\n",
       "      <td>NaN</td>\n",
       "    </tr>\n",
       "    <tr>\n",
       "      <th>4</th>\n",
       "      <td>La Chapelle du Bastion Picpoul de Pinet 2022</td>\n",
       "      <td>Picpoul</td>\n",
       "      <td>Picpoul de Pinet, Languedoc, South of France, ...</td>\n",
       "      <td>White Wine</td>\n",
       "      <td>Screw Cap</td>\n",
       "      <td>750.0</td>\n",
       "      <td>12.5</td>\n",
       "      <td>Blend: 100% Picpoul Blanc</td>\n",
       "      <td>COMMENTARY: The 2022 Le Chapelle du Bastion Pi...</td>\n",
       "      <td>4.2</td>\n",
       "      <td>91.0</td>\n",
       "      <td>11.99</td>\n",
       "      <td>NaN</td>\n",
       "    </tr>\n",
       "  </tbody>\n",
       "</table>\n",
       "</div>"
      ],
      "text/plain": [
       "                                           Name                     Variety  \\\n",
       "0                Chateau Du Caillau Cahors 2021                      Malbec   \n",
       "1                 Coates and Seely Brut Reserve  Non-Vintage Sparkling Wine   \n",
       "2                    Emilio Moro Polvorete 2022                     Godello   \n",
       "3   Bodegas La Purisma Old Vines Red Blend 2019            Other Red Blends   \n",
       "4  La Chapelle du Bastion Picpoul de Pinet 2022                     Picpoul   \n",
       "\n",
       "                                              Origin                 Attr_1  \\\n",
       "0                          Cahors, Southwest, France               Red Wine   \n",
       "1                                            England  Sparkling & Champagne   \n",
       "2                                      Bierzo, Spain             White Wine   \n",
       "3                                       Yecla, Spain               Red Wine   \n",
       "4  Picpoul de Pinet, Languedoc, South of France, ...             White Wine   \n",
       "\n",
       "       Attr_2  Alcohol_vol  Alcohol_percentage  \\\n",
       "0  Green Wine        750.0                13.0   \n",
       "1         NaN        750.0                12.0   \n",
       "2         NaN        750.0                13.5   \n",
       "3         NaN        750.0                14.5   \n",
       "4   Screw Cap        750.0                12.5   \n",
       "\n",
       "                                     Winemaker_notes  \\\n",
       "0  Deep intense ruby color. Ripe fruit on the nos...   \n",
       "1  A blend of Chardonnay and Pinot Noir, with res...   \n",
       "2                                                NaN   \n",
       "3  La Purisima has a gorgeous black cherry color,...   \n",
       "4                          Blend: 100% Picpoul Blanc   \n",
       "\n",
       "                                              Review  Avg_rating  N_ratings  \\\n",
       "0  COMMENTARY: The 2021 Chateau du Caillau is gen...         5.0       19.0   \n",
       "1  There's no rule that English sparkling wines m...         4.4       33.0   \n",
       "2  A round and balanced white with green apples, ...         4.8       14.0   \n",
       "3  An excellent blend with 85% monastrell, 10% sy...         4.4       56.0   \n",
       "4  COMMENTARY: The 2022 Le Chapelle du Bastion Pi...         4.2       91.0   \n",
       "\n",
       "  Price_Out-of-stock  Price  \n",
       "0              13.99  21.99  \n",
       "1              41.99    NaN  \n",
       "2              17.99  19.99  \n",
       "3              10.99    NaN  \n",
       "4              11.99    NaN  "
      ]
     },
     "execution_count": 4,
     "metadata": {},
     "output_type": "execute_result"
    }
   ],
   "source": [
    "# Show top 5 records\n",
    "df.head()"
   ]
  },
  {
   "cell_type": "markdown",
   "id": "b8320cf3",
   "metadata": {},
   "source": [
    "The main insight on the data with this visualization is that the origin value comes in different formats for each wine. Some wines have several values inside the origin columns, so data cleaning is needed in order to extract the data correctly. "
   ]
  },
  {
   "cell_type": "code",
   "execution_count": 5,
   "id": "5bb0b678",
   "metadata": {},
   "outputs": [
    {
     "name": "stdout",
     "output_type": "stream",
     "text": [
      "<class 'pandas.core.frame.DataFrame'>\n",
      "RangeIndex: 208199 entries, 0 to 208198\n",
      "Data columns (total 13 columns):\n",
      " #   Column              Non-Null Count   Dtype  \n",
      "---  ------              --------------   -----  \n",
      " 0   Name                207982 non-null  object \n",
      " 1   Variety             203519 non-null  object \n",
      " 2   Origin              203503 non-null  object \n",
      " 3   Attr_1              206376 non-null  object \n",
      " 4   Attr_2              42608 non-null   object \n",
      " 5   Alcohol_vol         207982 non-null  float64\n",
      " 6   Alcohol_percentage  207982 non-null  float64\n",
      " 7   Winemaker_notes     56088 non-null   object \n",
      " 8   Review              52645 non-null   object \n",
      " 9   Avg_rating          28015 non-null   float64\n",
      " 10  N_ratings           28015 non-null   float64\n",
      " 11  Price_Out-of-stock  207950 non-null  object \n",
      " 12  Price               49776 non-null   object \n",
      "dtypes: float64(4), object(9)\n",
      "memory usage: 20.6+ MB\n"
     ]
    }
   ],
   "source": [
    "# Revising data types, amount of null values\n",
    "df.info()"
   ]
  },
  {
   "cell_type": "markdown",
   "id": "1b1575b1",
   "metadata": {},
   "source": [
    "As it can be seen. Most of the wine pages does not have a winemaker note or a sommelier review. We can infer that this is due to the quality of the wine or they being a more commercial wine. For our prediction based on natural language we can consider only the records that do have the reviews present.\n",
    "\n",
    "Further notice comes around when speaking about the Origin Column, nulls need to be droped in order to have it as a way to predict ratings.\n",
    "\n",
    "Another observation is that the data types for Price_Out-of-stock and Price should be float 64, so more exploration on this columns needs to be done."
   ]
  },
  {
   "cell_type": "markdown",
   "id": "e945b33c",
   "metadata": {},
   "source": [
    "## Data Cleaning"
   ]
  },
  {
   "cell_type": "markdown",
   "id": "abe092cd",
   "metadata": {},
   "source": [
    "### Origin"
   ]
  },
  {
   "cell_type": "markdown",
   "id": "fefff130",
   "metadata": {},
   "source": [
    "The main approach to clean this column is to split its data in different column. Starting by getting all the values into a list inside the same column and then create multiple columns for each origin value."
   ]
  },
  {
   "cell_type": "code",
   "execution_count": 6,
   "id": "f42ee014",
   "metadata": {},
   "outputs": [
    {
     "data": {
      "text/plain": [
       "0                            Cahors, Southwest, France\n",
       "1                                              England\n",
       "2                                        Bierzo, Spain\n",
       "3                                         Yecla, Spain\n",
       "4    Picpoul de Pinet, Languedoc, South of France, ...\n",
       "Name: Origin, dtype: object"
      ]
     },
     "execution_count": 6,
     "metadata": {},
     "output_type": "execute_result"
    }
   ],
   "source": [
    "# Dropping Nulls\n",
    "df2 = df.dropna(subset=['Origin'])\n",
    "\n",
    "# Stripping end whitespace\n",
    "df2['Origin'] = df2['Origin'].str.rstrip()\n",
    "\n",
    "df2['Origin'].head()"
   ]
  },
  {
   "cell_type": "markdown",
   "id": "90edb090",
   "metadata": {},
   "source": [
    "Data is split by commas, so splitting by that character should work."
   ]
  },
  {
   "cell_type": "code",
   "execution_count": 7,
   "id": "5e137466",
   "metadata": {},
   "outputs": [
    {
     "data": {
      "text/plain": [
       "0                        [ France,  Southwest, Cahors]\n",
       "1                                            [England]\n",
       "2                                     [ Spain, Bierzo]\n",
       "3                                      [ Spain, Yecla]\n",
       "4    [ France,  South of France,  Languedoc, Picpou...\n",
       "Name: Origin_List, dtype: object"
      ]
     },
     "execution_count": 7,
     "metadata": {},
     "output_type": "execute_result"
    }
   ],
   "source": [
    "# Spliting data based on commas for the origin column\n",
    "df3 = df2.copy()\n",
    "\n",
    "df3['Origin_List'] = df2['Origin'].str.split(',').apply(lambda x : x[::-1])\n",
    "\n",
    "df3['Origin_List'].head(5)"
   ]
  },
  {
   "cell_type": "code",
   "execution_count": 8,
   "id": "16a3c00c",
   "metadata": {},
   "outputs": [
    {
     "data": {
      "text/html": [
       "<div>\n",
       "<style scoped>\n",
       "    .dataframe tbody tr th:only-of-type {\n",
       "        vertical-align: middle;\n",
       "    }\n",
       "\n",
       "    .dataframe tbody tr th {\n",
       "        vertical-align: top;\n",
       "    }\n",
       "\n",
       "    .dataframe thead th {\n",
       "        text-align: right;\n",
       "    }\n",
       "</style>\n",
       "<table border=\"1\" class=\"dataframe\">\n",
       "  <thead>\n",
       "    <tr style=\"text-align: right;\">\n",
       "      <th></th>\n",
       "      <th>Name</th>\n",
       "      <th>Variety</th>\n",
       "      <th>Attr_1</th>\n",
       "      <th>Attr_2</th>\n",
       "      <th>Alcohol_vol</th>\n",
       "      <th>Alcohol_percentage</th>\n",
       "      <th>Winemaker_notes</th>\n",
       "      <th>Review</th>\n",
       "      <th>Avg_rating</th>\n",
       "      <th>N_ratings</th>\n",
       "      <th>Price_Out-of-stock</th>\n",
       "      <th>Price</th>\n",
       "      <th>Origin_1</th>\n",
       "      <th>Origin_2</th>\n",
       "      <th>Origin_3</th>\n",
       "      <th>Origin_4</th>\n",
       "      <th>Origin_5</th>\n",
       "    </tr>\n",
       "  </thead>\n",
       "  <tbody>\n",
       "    <tr>\n",
       "      <th>0</th>\n",
       "      <td>Chateau Du Caillau Cahors 2021</td>\n",
       "      <td>Malbec</td>\n",
       "      <td>Red Wine</td>\n",
       "      <td>Green Wine</td>\n",
       "      <td>750.0</td>\n",
       "      <td>13.0</td>\n",
       "      <td>Deep intense ruby color. Ripe fruit on the nos...</td>\n",
       "      <td>COMMENTARY: The 2021 Chateau du Caillau is gen...</td>\n",
       "      <td>5.0</td>\n",
       "      <td>19.0</td>\n",
       "      <td>13.99</td>\n",
       "      <td>21.99</td>\n",
       "      <td>France</td>\n",
       "      <td>Southwest</td>\n",
       "      <td>Cahors</td>\n",
       "      <td>NaN</td>\n",
       "      <td>NaN</td>\n",
       "    </tr>\n",
       "    <tr>\n",
       "      <th>1</th>\n",
       "      <td>Coates and Seely Brut Reserve</td>\n",
       "      <td>Non-Vintage Sparkling Wine</td>\n",
       "      <td>Sparkling &amp; Champagne</td>\n",
       "      <td>NaN</td>\n",
       "      <td>750.0</td>\n",
       "      <td>12.0</td>\n",
       "      <td>A blend of Chardonnay and Pinot Noir, with res...</td>\n",
       "      <td>There's no rule that English sparkling wines m...</td>\n",
       "      <td>4.4</td>\n",
       "      <td>33.0</td>\n",
       "      <td>41.99</td>\n",
       "      <td>NaN</td>\n",
       "      <td>England</td>\n",
       "      <td>NaN</td>\n",
       "      <td>NaN</td>\n",
       "      <td>NaN</td>\n",
       "      <td>NaN</td>\n",
       "    </tr>\n",
       "    <tr>\n",
       "      <th>2</th>\n",
       "      <td>Emilio Moro Polvorete 2022</td>\n",
       "      <td>Godello</td>\n",
       "      <td>White Wine</td>\n",
       "      <td>NaN</td>\n",
       "      <td>750.0</td>\n",
       "      <td>13.5</td>\n",
       "      <td>NaN</td>\n",
       "      <td>A round and balanced white with green apples, ...</td>\n",
       "      <td>4.8</td>\n",
       "      <td>14.0</td>\n",
       "      <td>17.99</td>\n",
       "      <td>19.99</td>\n",
       "      <td>Spain</td>\n",
       "      <td>Bierzo</td>\n",
       "      <td>NaN</td>\n",
       "      <td>NaN</td>\n",
       "      <td>NaN</td>\n",
       "    </tr>\n",
       "    <tr>\n",
       "      <th>3</th>\n",
       "      <td>Bodegas La Purisma Old Vines Red Blend 2019</td>\n",
       "      <td>Other Red Blends</td>\n",
       "      <td>Red Wine</td>\n",
       "      <td>NaN</td>\n",
       "      <td>750.0</td>\n",
       "      <td>14.5</td>\n",
       "      <td>La Purisima has a gorgeous black cherry color,...</td>\n",
       "      <td>An excellent blend with 85% monastrell, 10% sy...</td>\n",
       "      <td>4.4</td>\n",
       "      <td>56.0</td>\n",
       "      <td>10.99</td>\n",
       "      <td>NaN</td>\n",
       "      <td>Spain</td>\n",
       "      <td>Yecla</td>\n",
       "      <td>NaN</td>\n",
       "      <td>NaN</td>\n",
       "      <td>NaN</td>\n",
       "    </tr>\n",
       "    <tr>\n",
       "      <th>4</th>\n",
       "      <td>La Chapelle du Bastion Picpoul de Pinet 2022</td>\n",
       "      <td>Picpoul</td>\n",
       "      <td>White Wine</td>\n",
       "      <td>Screw Cap</td>\n",
       "      <td>750.0</td>\n",
       "      <td>12.5</td>\n",
       "      <td>Blend: 100% Picpoul Blanc</td>\n",
       "      <td>COMMENTARY: The 2022 Le Chapelle du Bastion Pi...</td>\n",
       "      <td>4.2</td>\n",
       "      <td>91.0</td>\n",
       "      <td>11.99</td>\n",
       "      <td>NaN</td>\n",
       "      <td>France</td>\n",
       "      <td>South of France</td>\n",
       "      <td>Languedoc</td>\n",
       "      <td>Picpoul de Pinet</td>\n",
       "      <td>NaN</td>\n",
       "    </tr>\n",
       "  </tbody>\n",
       "</table>\n",
       "</div>"
      ],
      "text/plain": [
       "                                           Name                     Variety  \\\n",
       "0                Chateau Du Caillau Cahors 2021                      Malbec   \n",
       "1                 Coates and Seely Brut Reserve  Non-Vintage Sparkling Wine   \n",
       "2                    Emilio Moro Polvorete 2022                     Godello   \n",
       "3   Bodegas La Purisma Old Vines Red Blend 2019            Other Red Blends   \n",
       "4  La Chapelle du Bastion Picpoul de Pinet 2022                     Picpoul   \n",
       "\n",
       "                  Attr_1      Attr_2  Alcohol_vol  Alcohol_percentage  \\\n",
       "0               Red Wine  Green Wine        750.0                13.0   \n",
       "1  Sparkling & Champagne         NaN        750.0                12.0   \n",
       "2             White Wine         NaN        750.0                13.5   \n",
       "3               Red Wine         NaN        750.0                14.5   \n",
       "4             White Wine   Screw Cap        750.0                12.5   \n",
       "\n",
       "                                     Winemaker_notes  \\\n",
       "0  Deep intense ruby color. Ripe fruit on the nos...   \n",
       "1  A blend of Chardonnay and Pinot Noir, with res...   \n",
       "2                                                NaN   \n",
       "3  La Purisima has a gorgeous black cherry color,...   \n",
       "4                          Blend: 100% Picpoul Blanc   \n",
       "\n",
       "                                              Review  Avg_rating  N_ratings  \\\n",
       "0  COMMENTARY: The 2021 Chateau du Caillau is gen...         5.0       19.0   \n",
       "1  There's no rule that English sparkling wines m...         4.4       33.0   \n",
       "2  A round and balanced white with green apples, ...         4.8       14.0   \n",
       "3  An excellent blend with 85% monastrell, 10% sy...         4.4       56.0   \n",
       "4  COMMENTARY: The 2022 Le Chapelle du Bastion Pi...         4.2       91.0   \n",
       "\n",
       "  Price_Out-of-stock  Price Origin_1          Origin_2    Origin_3  \\\n",
       "0              13.99  21.99   France         Southwest      Cahors   \n",
       "1              41.99    NaN  England               NaN         NaN   \n",
       "2              17.99  19.99    Spain            Bierzo         NaN   \n",
       "3              10.99    NaN    Spain             Yecla         NaN   \n",
       "4              11.99    NaN   France   South of France   Languedoc   \n",
       "\n",
       "           Origin_4 Origin_5  \n",
       "0               NaN      NaN  \n",
       "1               NaN      NaN  \n",
       "2               NaN      NaN  \n",
       "3               NaN      NaN  \n",
       "4  Picpoul de Pinet      NaN  "
      ]
     },
     "execution_count": 8,
     "metadata": {},
     "output_type": "execute_result"
    }
   ],
   "source": [
    "# Using the explode function from pandas in order to create different columns for each item in Origin_List\n",
    "df4 = df3.copy()\n",
    "\n",
    "# define a function to split the list into columns\n",
    "def split_list(row):\n",
    "    return pd.Series(row['Origin_List'])\n",
    "\n",
    "# apply the function to the DataFrame\n",
    "new_df4 = df4.apply(split_list, axis=1).rename(columns=lambda x: f\"Origin_{x+1}\")\n",
    "\n",
    "# merge the new DataFrame with the original DataFrame\n",
    "result_df4 = pd.concat([df4, new_df4], axis=1).drop(['Origin_List', 'Origin'], axis=1)\n",
    "\n",
    "# Update the df3 dataframe\n",
    "df4 = result_df4.copy()\n",
    "\n",
    "df4.head()"
   ]
  },
  {
   "cell_type": "code",
   "execution_count": 9,
   "id": "7a2204ab",
   "metadata": {},
   "outputs": [
    {
     "data": {
      "text/plain": [
       "'France'"
      ]
     },
     "execution_count": 9,
     "metadata": {},
     "output_type": "execute_result"
    }
   ],
   "source": [
    "# Stripping whitespaces in the origin columns\n",
    "df5 = df4.copy()\n",
    "\n",
    "for col in df4.columns[-5:]:\n",
    "    df5[col] = df4[col].str.lstrip().str.rstrip()\n",
    "\n",
    "df5.iloc[0]['Origin_1']"
   ]
  },
  {
   "cell_type": "markdown",
   "id": "6e37fbb8",
   "metadata": {},
   "source": [
    "## Numerical Columns"
   ]
  },
  {
   "cell_type": "code",
   "execution_count": 23,
   "id": "b7c1d446",
   "metadata": {},
   "outputs": [
    {
     "name": "stdout",
     "output_type": "stream",
     "text": [
      "<class 'pandas.core.frame.DataFrame'>\n",
      "Int64Index: 203503 entries, 0 to 208198\n",
      "Data columns (total 6 columns):\n",
      " #   Column              Non-Null Count   Dtype  \n",
      "---  ------              --------------   -----  \n",
      " 0   Alcohol_vol         203503 non-null  float64\n",
      " 1   Alcohol_percentage  203503 non-null  float64\n",
      " 2   Avg_rating          27721 non-null   float64\n",
      " 3   N_ratings           27721 non-null   float64\n",
      " 4   Price_Out-of-stock  202786 non-null  float64\n",
      " 5   Price               48600 non-null   float64\n",
      "dtypes: float64(6)\n",
      "memory usage: 10.9 MB\n"
     ]
    },
    {
     "data": {
      "text/html": [
       "<div>\n",
       "<style scoped>\n",
       "    .dataframe tbody tr th:only-of-type {\n",
       "        vertical-align: middle;\n",
       "    }\n",
       "\n",
       "    .dataframe tbody tr th {\n",
       "        vertical-align: top;\n",
       "    }\n",
       "\n",
       "    .dataframe thead th {\n",
       "        text-align: right;\n",
       "    }\n",
       "</style>\n",
       "<table border=\"1\" class=\"dataframe\">\n",
       "  <thead>\n",
       "    <tr style=\"text-align: right;\">\n",
       "      <th></th>\n",
       "      <th>Alcohol_vol</th>\n",
       "      <th>Alcohol_percentage</th>\n",
       "      <th>Avg_rating</th>\n",
       "      <th>N_ratings</th>\n",
       "      <th>Price_Out-of-stock</th>\n",
       "      <th>Price</th>\n",
       "    </tr>\n",
       "  </thead>\n",
       "  <tbody>\n",
       "    <tr>\n",
       "      <th>count</th>\n",
       "      <td>203503.000000</td>\n",
       "      <td>203503.000000</td>\n",
       "      <td>27721.000000</td>\n",
       "      <td>27721.000000</td>\n",
       "      <td>202786.000000</td>\n",
       "      <td>48600.000000</td>\n",
       "    </tr>\n",
       "    <tr>\n",
       "      <th>mean</th>\n",
       "      <td>760.988197</td>\n",
       "      <td>5.441962</td>\n",
       "      <td>4.033660</td>\n",
       "      <td>27.392590</td>\n",
       "      <td>46.633633</td>\n",
       "      <td>55.364404</td>\n",
       "    </tr>\n",
       "    <tr>\n",
       "      <th>std</th>\n",
       "      <td>182.397938</td>\n",
       "      <td>6.758962</td>\n",
       "      <td>0.448285</td>\n",
       "      <td>58.019897</td>\n",
       "      <td>76.138547</td>\n",
       "      <td>84.155646</td>\n",
       "    </tr>\n",
       "    <tr>\n",
       "      <th>min</th>\n",
       "      <td>0.000000</td>\n",
       "      <td>0.000000</td>\n",
       "      <td>1.600000</td>\n",
       "      <td>5.000000</td>\n",
       "      <td>0.000000</td>\n",
       "      <td>7.990000</td>\n",
       "    </tr>\n",
       "    <tr>\n",
       "      <th>25%</th>\n",
       "      <td>750.000000</td>\n",
       "      <td>0.000000</td>\n",
       "      <td>3.800000</td>\n",
       "      <td>7.000000</td>\n",
       "      <td>15.990000</td>\n",
       "      <td>18.990000</td>\n",
       "    </tr>\n",
       "    <tr>\n",
       "      <th>50%</th>\n",
       "      <td>750.000000</td>\n",
       "      <td>0.000000</td>\n",
       "      <td>4.000000</td>\n",
       "      <td>12.000000</td>\n",
       "      <td>24.990000</td>\n",
       "      <td>28.990000</td>\n",
       "    </tr>\n",
       "    <tr>\n",
       "      <th>75%</th>\n",
       "      <td>750.000000</td>\n",
       "      <td>13.500000</td>\n",
       "      <td>4.300000</td>\n",
       "      <td>26.000000</td>\n",
       "      <td>46.990000</td>\n",
       "      <td>55.990000</td>\n",
       "    </tr>\n",
       "    <tr>\n",
       "      <th>max</th>\n",
       "      <td>9000.000000</td>\n",
       "      <td>149.000000</td>\n",
       "      <td>5.000000</td>\n",
       "      <td>1767.000000</td>\n",
       "      <td>999.990000</td>\n",
       "      <td>999.990000</td>\n",
       "    </tr>\n",
       "  </tbody>\n",
       "</table>\n",
       "</div>"
      ],
      "text/plain": [
       "         Alcohol_vol  Alcohol_percentage    Avg_rating     N_ratings  \\\n",
       "count  203503.000000       203503.000000  27721.000000  27721.000000   \n",
       "mean      760.988197            5.441962      4.033660     27.392590   \n",
       "std       182.397938            6.758962      0.448285     58.019897   \n",
       "min         0.000000            0.000000      1.600000      5.000000   \n",
       "25%       750.000000            0.000000      3.800000      7.000000   \n",
       "50%       750.000000            0.000000      4.000000     12.000000   \n",
       "75%       750.000000           13.500000      4.300000     26.000000   \n",
       "max      9000.000000          149.000000      5.000000   1767.000000   \n",
       "\n",
       "       Price_Out-of-stock         Price  \n",
       "count       202786.000000  48600.000000  \n",
       "mean            46.633633     55.364404  \n",
       "std             76.138547     84.155646  \n",
       "min              0.000000      7.990000  \n",
       "25%             15.990000     18.990000  \n",
       "50%             24.990000     28.990000  \n",
       "75%             46.990000     55.990000  \n",
       "max            999.990000    999.990000  "
      ]
     },
     "execution_count": 23,
     "metadata": {},
     "output_type": "execute_result"
    }
   ],
   "source": [
    "# Starting with changing the object columns to float64 datatype\n",
    "\n",
    "df6 = df5.copy()\n",
    "num_columns = ['Alcohol_vol', 'Alcohol_percentage', 'Avg_rating', 'N_ratings','Price_Out-of-stock', 'Price']\n",
    "\n",
    "df6['Price_Out-of-stock'] = pd.to_numeric(df6['Price_Out-of-stock'], errors='coerce')\n",
    "df6['Price'] = pd.to_numeric(df6['Price'], errors='coerce')\n",
    "\n",
    "df6[num_columns].info()\n",
    "df6[num_columns].describe()"
   ]
  },
  {
   "cell_type": "markdown",
   "id": "d6d4be62",
   "metadata": {},
   "source": [
    "We can see that there are over $70 \\% $ missing values in the following columns: \n",
    "\n",
    "* Avg_rating: $86.38\\%$\n",
    "* N_ratings: $86.38\\%$\n",
    "* Price: $76.12\\%$\n",
    "\n",
    "We need to tackle this with either imputation, dropping these columns, or maybe add a missingness indicator column for each of these columns"
   ]
  },
  {
   "cell_type": "code",
   "execution_count": 22,
   "id": "18041c56",
   "metadata": {},
   "outputs": [
    {
     "name": "stdout",
     "output_type": "stream",
     "text": [
      "Missing values for Alcohol_vol: 0 (0.0%)\n",
      "Missing values for Alcohol_percentage: 0 (0.0%)\n",
      "Missing values for Avg_rating: 175782 (86.38%)\n",
      "Missing values for N_ratings: 175782 (86.38%)\n",
      "Missing values for Price_Out-of-stock: 717 (0.35000000000000003%)\n",
      "Missing values for Price: 154903 (76.12%)\n"
     ]
    }
   ],
   "source": [
    "# Checking missing values\n",
    "for col in num_columns:\n",
    "    missing_vals = df6[col].isnull().sum()\n",
    "    percentage = np.round(missing_vals/df6.shape[0], decimals=4)*100\n",
    "    print(f'Missing values for {col}: {missing_vals} ({percentage}%)')"
   ]
  },
  {
   "cell_type": "code",
   "execution_count": 25,
   "id": "4dd99fef",
   "metadata": {},
   "outputs": [
    {
     "data": {
      "text/plain": [
       "<AxesSubplot: >"
      ]
     },
     "execution_count": 25,
     "metadata": {},
     "output_type": "execute_result"
    },
    {
     "data": {
      "image/png": "[encoded data removed]",
      "text/plain": [
       "<Figure size 640x480 with 2 Axes>"
      ]
     },
     "metadata": {},
     "output_type": "display_data"
    }
   ],
   "source": [
    "# Check correlation between numerical columns\n",
    "sns.heatmap(df6[num_columns].corr(), annot=True)"
   ]
  },
  {
   "cell_type": "code",
   "execution_count": 29,
   "id": "2511d5ac",
   "metadata": {},
   "outputs": [
    {
     "data": {
      "image/png": "[encoded data removed]",
      "text/plain": [
       "<Figure size 1200x600 with 1 Axes>"
      ]
     },
     "metadata": {},
     "output_type": "display_data"
    }
   ],
   "source": [
    "# If we're classifying based on the Avg_rating variable, it might be looking into the distribution of values\n",
    "# Might need to 'bucket' values so we avoid it becoming a regression problem\n",
    "\n",
    "vals = df6['Avg_rating'].value_counts()\n",
    "vals_sorted =  vals.sort_index()\n",
    "\n",
    "uniques = vals_sorted.index\n",
    "count = vals_sorted.values\n",
    "\n",
    "plt.figure(figsize=(12,6))\n",
    "plt.scatter(uniques, count)\n",
    "plt.xlabel(\"Unique values\")\n",
    "plt.ylabel(\"Count\")\n",
    "plt.title(\"Unique values vs. count of Avg_rating column\")\n",
    "\n",
    "plt.tight_layout()\n",
    "plt.show()"
   ]
  },
  {
   "cell_type": "markdown",
   "id": "ccf7381b",
   "metadata": {},
   "source": [
    "## Categorical Columns"
   ]
  }
 ],
 "metadata": {
  "kernelspec": {
   "display_name": "base",
   "language": "python",
   "name": "python3"
  },
  "language_info": {
   "codemirror_mode": {
    "name": "ipython",
    "version": 3
   },
   "file_extension": ".py",
   "mimetype": "text/x-python",
   "name": "python",
   "nbconvert_exporter": "python",
   "pygments_lexer": "ipython3",
   "version": "3.10.9"
  }
 },
 "nbformat": 4,
 "nbformat_minor": 5
}
