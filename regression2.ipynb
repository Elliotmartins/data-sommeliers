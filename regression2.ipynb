{
 "cells": [
  {
   "cell_type": "markdown",
   "metadata": {},
   "source": [
    "# **Regression (Second Attempt)**"
   ]
  },
  {
   "cell_type": "code",
   "execution_count": 60,
   "metadata": {},
   "outputs": [],
   "source": [
    "import os\n",
    "import pandas as pd\n",
    "import numpy as np\n",
    "import matplotlib.pyplot as plt\n",
    "import seaborn as sns\n",
    "from scipy import stats\n",
    "import re\n",
    "import zipfile\n",
    "\n",
    "from sklearn.ensemble import RandomForestRegressor\n",
    "from sklearn.linear_model import LinearRegression\n",
    "from sklearn.compose import ColumnTransformer\n",
    "from sklearn.preprocessing import MinMaxScaler, StandardScaler\n",
    "from sklearn.model_selection import train_test_split, KFold, cross_val_score\n",
    "from sklearn.pipeline import Pipeline\n",
    "from sklearn.preprocessing import OneHotEncoder\n",
    "from sklearn.feature_extraction.text import TfidfVectorizer\n",
    "from sklearn.metrics import r2_score ,mean_absolute_error, mean_squared_error,  max_error, explained_variance_score\n",
    "\n",
    "import warnings\n",
    "warnings.filterwarnings('ignore')\n",
    "\n",
    "pd.set_option('display.max_columns', None)"
   ]
  },
  {
   "cell_type": "code",
   "execution_count": 2,
   "metadata": {},
   "outputs": [
    {
     "name": "stdout",
     "output_type": "stream",
     "text": [
      "<class 'pandas.core.frame.DataFrame'>\n",
      "RangeIndex: 421017 entries, 0 to 421016\n",
      "Data columns (total 15 columns):\n",
      " #   Column              Non-Null Count   Dtype  \n",
      "---  ------              --------------   -----  \n",
      " 0   Name                421017 non-null  object \n",
      " 1   Variety             421017 non-null  object \n",
      " 2   Country             421017 non-null  object \n",
      " 3   Region              386109 non-null  object \n",
      " 4   Zone                253609 non-null  object \n",
      " 5   Attr_1              417986 non-null  object \n",
      " 6   Attr_2              76720 non-null   object \n",
      " 7   Winemaker_notes     95234 non-null   object \n",
      " 8   Review              93840 non-null   object \n",
      " 9   Alcohol_percentage  420952 non-null  float64\n",
      " 10  Alcohol_vol         420952 non-null  float64\n",
      " 11  Avg_rating          45970 non-null   float64\n",
      " 12  N_ratings           45970 non-null   float64\n",
      " 13  Price_Feature       419607 non-null  float64\n",
      " 14  Year                418078 non-null  float64\n",
      "dtypes: float64(6), object(9)\n",
      "memory usage: 48.2+ MB\n"
     ]
    },
    {
     "data": {
      "text/html": [
       "<div>\n",
       "<style scoped>\n",
       "    .dataframe tbody tr th:only-of-type {\n",
       "        vertical-align: middle;\n",
       "    }\n",
       "\n",
       "    .dataframe tbody tr th {\n",
       "        vertical-align: top;\n",
       "    }\n",
       "\n",
       "    .dataframe thead th {\n",
       "        text-align: right;\n",
       "    }\n",
       "</style>\n",
       "<table border=\"1\" class=\"dataframe\">\n",
       "  <thead>\n",
       "    <tr style=\"text-align: right;\">\n",
       "      <th></th>\n",
       "      <th>Name</th>\n",
       "      <th>Variety</th>\n",
       "      <th>Country</th>\n",
       "      <th>Region</th>\n",
       "      <th>Zone</th>\n",
       "      <th>Attr_1</th>\n",
       "      <th>Attr_2</th>\n",
       "      <th>Winemaker_notes</th>\n",
       "      <th>Review</th>\n",
       "      <th>Alcohol_percentage</th>\n",
       "      <th>Alcohol_vol</th>\n",
       "      <th>Avg_rating</th>\n",
       "      <th>N_ratings</th>\n",
       "      <th>Price_Feature</th>\n",
       "      <th>Year</th>\n",
       "    </tr>\n",
       "  </thead>\n",
       "  <tbody>\n",
       "    <tr>\n",
       "      <th>0</th>\n",
       "      <td>M. Chapoutier La Combe Pilate Esteban Brut Nature</td>\n",
       "      <td>Vintage Sparkling Wine</td>\n",
       "      <td>France</td>\n",
       "      <td>Rhone</td>\n",
       "      <td>NaN</td>\n",
       "      <td>Sparkling &amp; Champagne</td>\n",
       "      <td>Green Wine</td>\n",
       "      <td>NaN</td>\n",
       "      <td>NaN</td>\n",
       "      <td>10.0</td>\n",
       "      <td>750.0</td>\n",
       "      <td>5.0</td>\n",
       "      <td>15.0</td>\n",
       "      <td>49.99</td>\n",
       "      <td>2020.0</td>\n",
       "    </tr>\n",
       "    <tr>\n",
       "      <th>1</th>\n",
       "      <td>Vinos de Arganza Alvarez de Toledo Godello</td>\n",
       "      <td>Godello</td>\n",
       "      <td>Spain</td>\n",
       "      <td>NaN</td>\n",
       "      <td>NaN</td>\n",
       "      <td>White Wine</td>\n",
       "      <td>NaN</td>\n",
       "      <td>This wine has a bright yellow color with fresh...</td>\n",
       "      <td>NaN</td>\n",
       "      <td>0.0</td>\n",
       "      <td>750.0</td>\n",
       "      <td>5.0</td>\n",
       "      <td>13.0</td>\n",
       "      <td>10.99</td>\n",
       "      <td>2020.0</td>\n",
       "    </tr>\n",
       "    <tr>\n",
       "      <th>2</th>\n",
       "      <td>Louis Latour Vosne-Romanee</td>\n",
       "      <td>Pinot Noir</td>\n",
       "      <td>France</td>\n",
       "      <td>Burgundy</td>\n",
       "      <td>Cote d'Or</td>\n",
       "      <td>Red Wine</td>\n",
       "      <td>Boutique</td>\n",
       "      <td>NaN</td>\n",
       "      <td>Toasty, spicy aromas introduce this rich, silk...</td>\n",
       "      <td>0.0</td>\n",
       "      <td>750.0</td>\n",
       "      <td>5.0</td>\n",
       "      <td>20.0</td>\n",
       "      <td>119.99</td>\n",
       "      <td>2019.0</td>\n",
       "    </tr>\n",
       "    <tr>\n",
       "      <th>3</th>\n",
       "      <td>Chateau Bouscaut</td>\n",
       "      <td>Bordeaux Red Blends</td>\n",
       "      <td>France</td>\n",
       "      <td>Bordeaux</td>\n",
       "      <td>Pessac-Leognan</td>\n",
       "      <td>Red Wine</td>\n",
       "      <td>NaN</td>\n",
       "      <td>Blend: 61% Merlot, 33% Cabernet Sauvignon, 6% ...</td>\n",
       "      <td>This estate continues to produce brilliant win...</td>\n",
       "      <td>14.5</td>\n",
       "      <td>750.0</td>\n",
       "      <td>5.0</td>\n",
       "      <td>17.0</td>\n",
       "      <td>44.99</td>\n",
       "      <td>2020.0</td>\n",
       "    </tr>\n",
       "    <tr>\n",
       "      <th>4</th>\n",
       "      <td>Brandini Barolo La Morra</td>\n",
       "      <td>Nebbiolo</td>\n",
       "      <td>Italy</td>\n",
       "      <td>Piedmont</td>\n",
       "      <td>Barolo</td>\n",
       "      <td>Red Wine</td>\n",
       "      <td>Green Wine</td>\n",
       "      <td>Made with organically farmed fruit, the La Mor...</td>\n",
       "      <td>Aromas of cherries, strawberries and tar with ...</td>\n",
       "      <td>14.0</td>\n",
       "      <td>750.0</td>\n",
       "      <td>5.0</td>\n",
       "      <td>19.0</td>\n",
       "      <td>63.99</td>\n",
       "      <td>2015.0</td>\n",
       "    </tr>\n",
       "  </tbody>\n",
       "</table>\n",
       "</div>"
      ],
      "text/plain": [
       "                                                Name                 Variety  \\\n",
       "0  M. Chapoutier La Combe Pilate Esteban Brut Nature  Vintage Sparkling Wine   \n",
       "1         Vinos de Arganza Alvarez de Toledo Godello                 Godello   \n",
       "2                         Louis Latour Vosne-Romanee              Pinot Noir   \n",
       "3                                   Chateau Bouscaut     Bordeaux Red Blends   \n",
       "4                           Brandini Barolo La Morra                Nebbiolo   \n",
       "\n",
       "  Country    Region            Zone                 Attr_1      Attr_2  \\\n",
       "0  France     Rhone             NaN  Sparkling & Champagne  Green Wine   \n",
       "1   Spain       NaN             NaN             White Wine         NaN   \n",
       "2  France  Burgundy       Cote d'Or               Red Wine    Boutique   \n",
       "3  France  Bordeaux  Pessac-Leognan               Red Wine         NaN   \n",
       "4   Italy  Piedmont          Barolo               Red Wine  Green Wine   \n",
       "\n",
       "                                     Winemaker_notes  \\\n",
       "0                                                NaN   \n",
       "1  This wine has a bright yellow color with fresh...   \n",
       "2                                                NaN   \n",
       "3  Blend: 61% Merlot, 33% Cabernet Sauvignon, 6% ...   \n",
       "4  Made with organically farmed fruit, the La Mor...   \n",
       "\n",
       "                                              Review  Alcohol_percentage  \\\n",
       "0                                                NaN                10.0   \n",
       "1                                                NaN                 0.0   \n",
       "2  Toasty, spicy aromas introduce this rich, silk...                 0.0   \n",
       "3  This estate continues to produce brilliant win...                14.5   \n",
       "4  Aromas of cherries, strawberries and tar with ...                14.0   \n",
       "\n",
       "   Alcohol_vol  Avg_rating  N_ratings  Price_Feature    Year  \n",
       "0        750.0         5.0       15.0          49.99  2020.0  \n",
       "1        750.0         5.0       13.0          10.99  2020.0  \n",
       "2        750.0         5.0       20.0         119.99  2019.0  \n",
       "3        750.0         5.0       17.0          44.99  2020.0  \n",
       "4        750.0         5.0       19.0          63.99  2015.0  "
      ]
     },
     "execution_count": 2,
     "metadata": {},
     "output_type": "execute_result"
    }
   ],
   "source": [
    "# Opening zipfile and reading it to a dataframe\n",
    "with zipfile.ZipFile('wine_reviews_clean.zip', 'r') as zipf:\n",
    "    zipf.extractall('')\n",
    "\n",
    "df = pd.read_csv('wine_reviews_clean.csv')\n",
    "\n",
    "os.remove('wine_reviews_clean.csv')\n",
    "\n",
    "df.info()\n",
    "df.head()"
   ]
  },
  {
   "cell_type": "code",
   "execution_count": 3,
   "metadata": {},
   "outputs": [
    {
     "data": {
      "text/plain": [
       "Alcohol_percentage_IsOutlier    420998\n",
       "Alcohol_vol_IsOutlier           415141\n",
       "Avg_rating_IsOutlier            420717\n",
       "N_ratings_IsOutlier             420362\n",
       "Price_Feature_IsOutlier         412648\n",
       "Year_IsOutlier                  418243\n",
       "dtype: int64"
      ]
     },
     "execution_count": 3,
     "metadata": {},
     "output_type": "execute_result"
    }
   ],
   "source": [
    "# Check for outliers\n",
    "def get_outliers(data, threshold=3):\n",
    "    z_scores = np.abs(stats.zscore(data, nan_policy='omit'))\n",
    "    outliers = np.where(z_scores > threshold, np.nan, 0)\n",
    "    return outliers\n",
    "\n",
    "outliers = df.select_dtypes('float64').apply(get_outliers, axis=0)\n",
    "\n",
    "outliers_df = df.join(outliers, rsuffix='_IsOutlier')\n",
    "\n",
    "outliers_df.iloc[:, -6:].notna().sum()"
   ]
  },
  {
   "cell_type": "code",
   "execution_count": 4,
   "metadata": {},
   "outputs": [
    {
     "name": "stdout",
     "output_type": "stream",
     "text": [
      "<class 'pandas.core.frame.DataFrame'>\n",
      "Int64Index: 405906 entries, 0 to 421016\n",
      "Data columns (total 15 columns):\n",
      " #   Column              Non-Null Count   Dtype  \n",
      "---  ------              --------------   -----  \n",
      " 0   Name                405906 non-null  object \n",
      " 1   Variety             405906 non-null  object \n",
      " 2   Country             405906 non-null  object \n",
      " 3   Region              371395 non-null  object \n",
      " 4   Zone                241475 non-null  object \n",
      " 5   Attr_1              403100 non-null  object \n",
      " 6   Attr_2              68063 non-null   object \n",
      " 7   Winemaker_notes     89805 non-null   object \n",
      " 8   Review              84430 non-null   object \n",
      " 9   Alcohol_percentage  405841 non-null  float64\n",
      " 10  Alcohol_vol         405841 non-null  float64\n",
      " 11  Avg_rating          44313 non-null   float64\n",
      " 12  N_ratings           44313 non-null   float64\n",
      " 13  Price_Feature       405168 non-null  float64\n",
      " 14  Year                403193 non-null  float64\n",
      "dtypes: float64(6), object(9)\n",
      "memory usage: 49.5+ MB\n"
     ]
    }
   ],
   "source": [
    "# Eliminate this outliers\n",
    "clean_df = outliers_df.dropna(subset=outliers_df.columns.tolist()[-6:])\n",
    "clean_df = clean_df.drop(outliers_df.columns.tolist()[-6:], axis=1)\n",
    "\n",
    "clean_df.info()"
   ]
  },
  {
   "cell_type": "code",
   "execution_count": 61,
   "metadata": {},
   "outputs": [],
   "source": [
    "# Creating a customer function to compute the different metrics for regression\n",
    "def regression_report(y_true, y_pred):\n",
    "    print('Regression Report\\n')\n",
    "    print('r2_score:', r2_score(y_true, y_pred).round(3))\n",
    "    print('explained_variance_score:', explained_variance_score(y_true, y_pred).round(3))\n",
    "    print('mean_absolute_error:', mean_absolute_error(y_true, y_pred).round(3))\n",
    "    print('mean_squared_error:', mean_squared_error(y_true, y_pred).round(3))\n",
    "    print('max_error:', max_error(y_true, y_pred).round(3))"
   ]
  },
  {
   "cell_type": "markdown",
   "metadata": {},
   "source": [
    "## *Numerical Variables*"
   ]
  },
  {
   "cell_type": "code",
   "execution_count": 62,
   "metadata": {},
   "outputs": [
    {
     "name": "stdout",
     "output_type": "stream",
     "text": [
      "Regression Report\n",
      "\n",
      "r2_score: 0.201\n",
      "explained_variance_score: 0.201\n",
      "mean_absolute_error: 19.163\n",
      "mean_squared_error: 953.783\n",
      "max_error: 253.404\n"
     ]
    }
   ],
   "source": [
    "# Selecting data for the experiment\n",
    "exp1_var = ['Alcohol_percentage', 'Alcohol_vol', 'Avg_rating', 'N_ratings', 'Year', 'Price_Feature']\n",
    "exp1_df = clean_df[exp1_var].dropna()\n",
    "\n",
    "# Spliting data into regressor variables and target\n",
    "X = exp1_df.iloc[:, :-1]\n",
    "y = exp1_df.iloc[:, -1]\n",
    "\n",
    "# Splitting\n",
    "X_train, X_test, y_train, y_test = train_test_split(X, y, test_size=0.20, random_state=0)\n",
    "\n",
    "# Creating a preprocessor for the columns\n",
    "exp1_preprocessor = ColumnTransformer([\n",
    "    ('Numerical', MinMaxScaler(), X.columns.tolist())\n",
    "], remainder='passthrough')\n",
    "\n",
    "# Creating a pipeline\n",
    "exp1_reg = Pipeline([\n",
    "    ('preprocessor', exp1_preprocessor),\n",
    "    ('regressor', LinearRegression())\n",
    "])\n",
    "\n",
    "# Training\n",
    "exp1_reg.fit(X_train, y_train)\n",
    "\n",
    "# Perform predictions\n",
    "y_pred = exp1_reg.predict(X_test)\n",
    "\n",
    "# Custom Regression Report\n",
    "regression_report(y_test, y_pred)"
   ]
  },
  {
   "cell_type": "markdown",
   "metadata": {},
   "source": [
    "## *Numerical and Categorical Data*"
   ]
  },
  {
   "cell_type": "code",
   "execution_count": 63,
   "metadata": {},
   "outputs": [
    {
     "name": "stdout",
     "output_type": "stream",
     "text": [
      "Regression Report\n",
      "\n",
      "r2_score: 0.31\n",
      "explained_variance_score: 0.31\n",
      "mean_absolute_error: 18.17\n",
      "mean_squared_error: 887.44\n",
      "max_error: 245.68\n"
     ]
    }
   ],
   "source": [
    "# Selecting data for the experiment\n",
    "exp2_var = ['Alcohol_percentage', 'Alcohol_vol', 'Avg_rating', 'N_ratings', \n",
    "            'Variety', 'Country', 'Region', 'Attr_1', 'Price_Feature']\n",
    "exp2_var = clean_df[exp2_var].dropna()\n",
    "\n",
    "# Spliting data into regressor variables and target\n",
    "X2 = exp2_var.iloc[:, :-1]\n",
    "y2 = exp2_var.iloc[:, -1]\n",
    "\n",
    "# Splitting\n",
    "X_train, X_test, y_train, y_test = train_test_split(X2, y2, test_size=0.20, random_state=0)\n",
    "\n",
    "# Creating a preprocessor for the columns\n",
    "exp2_preprocessor = ColumnTransformer([\n",
    "    ('Numerical', MinMaxScaler(), X2.select_dtypes('float64').columns.tolist()),\n",
    "    ('Categorical', OneHotEncoder(handle_unknown='ignore'), X2.select_dtypes('object').columns.tolist())\n",
    "], remainder='passthrough')\n",
    "\n",
    "# Creating a pipeline\n",
    "exp2_reg = Pipeline([\n",
    "    ('preprocessor', exp2_preprocessor),\n",
    "    ('regressor', LinearRegression())\n",
    "])\n",
    "\n",
    "# Training\n",
    "exp2_reg.fit(X_train, y_train)\n",
    "\n",
    "# Perform predictions\n",
    "y2_pred = exp2_reg.predict(X_test)\n",
    "\n",
    "# Customer Regression Report\n",
    "regression_report(y_test, y2_pred)"
   ]
  },
  {
   "cell_type": "markdown",
   "metadata": {},
   "source": [
    "## *Categorical Data*"
   ]
  },
  {
   "cell_type": "code",
   "execution_count": 65,
   "metadata": {},
   "outputs": [
    {
     "name": "stdout",
     "output_type": "stream",
     "text": [
      "Regression Report\n",
      "\n",
      "r2_score: 0.223\n",
      "explained_variance_score: 0.223\n",
      "mean_absolute_error: 22.117\n",
      "mean_squared_error: 1224.267\n",
      "max_error: 254.581\n"
     ]
    }
   ],
   "source": [
    "# Selecting data for the experiment\n",
    "exp3_var = ['Variety', 'Country', 'Region', 'Attr_1', 'Price_Feature']\n",
    "exp3_df = clean_df[exp3_var].dropna()\n",
    "\n",
    "# Spliting data into regressor variables and target\n",
    "X3 = exp3_df.iloc[:, :-1]\n",
    "y3 = exp3_df.iloc[:, -1]\n",
    "\n",
    "# Splitting\n",
    "X_train, X_test, y_train, y_test = train_test_split(X3, y3, test_size=0.20, random_state=0)\n",
    "\n",
    "# Creating a preprocessor for the columns\n",
    "exp3_preprocessor = ColumnTransformer([\n",
    "    ('Categorical', OneHotEncoder(handle_unknown='ignore'), X3.select_dtypes('object').columns.tolist())\n",
    "], remainder='passthrough')\n",
    "\n",
    "# Creating a pipeline\n",
    "exp3_reg = Pipeline([\n",
    "    ('preprocessor', exp3_preprocessor),\n",
    "    ('regressor', LinearRegression())\n",
    "])\n",
    "\n",
    "# Training\n",
    "exp3_reg.fit(X_train, y_train)\n",
    "\n",
    "# Perform predictions\n",
    "y3_pred = exp3_reg.predict(X_test)\n",
    "\n",
    "# Customer Regression Report\n",
    "regression_report(y_test, y3_pred)"
   ]
  },
  {
   "cell_type": "markdown",
   "metadata": {},
   "source": [
    "## *Text Data*"
   ]
  },
  {
   "cell_type": "code",
   "execution_count": 74,
   "metadata": {},
   "outputs": [
    {
     "name": "stdout",
     "output_type": "stream",
     "text": [
      "Regression Report\n",
      "\n",
      "r2_score: 0.45\n",
      "explained_variance_score: 0.451\n",
      "mean_absolute_error: 26.842\n",
      "mean_squared_error: 1356.079\n",
      "max_error: 228.452\n"
     ]
    }
   ],
   "source": [
    "# Selecting data for the experiment\n",
    "exp4_var = ['Winemaker_notes', 'Review', 'Price_Feature']\n",
    "exp4_df = clean_df[exp4_var].dropna()\n",
    "\n",
    "# Spliting data into regressor variables and target\n",
    "X4 = exp4_df.iloc[:, :-1]\n",
    "y4 = exp4_df.iloc[:, -1]\n",
    "\n",
    "# Splitting\n",
    "X_train, X_test, y_train, y_test = train_test_split(X4, y4, test_size=0.20, random_state=0)\n",
    "\n",
    "# Creating a preprocessor for the columns\n",
    "exp4_preprocessor = ColumnTransformer([\n",
    "    ('Winemaker_notes', TfidfVectorizer(ngram_range=(1,2)), 'Winemaker_notes'),\n",
    "    ('Review', TfidfVectorizer(ngram_range=(1,2)), 'Review')\n",
    "], remainder='passthrough')\n",
    "\n",
    "# Creating a pipeline\n",
    "exp4_reg = Pipeline([\n",
    "    ('preprocessor', exp4_preprocessor),\n",
    "    ('regressor', LinearRegression())\n",
    "])\n",
    "\n",
    "# Training\n",
    "exp4_reg.fit(X_train, y_train)\n",
    "\n",
    "# Perform predictions\n",
    "y4_pred = exp4_reg.predict(X_test)\n",
    "\n",
    "# Customer Regression Report\n",
    "regression_report(y_test, y4_pred)"
   ]
  },
  {
   "cell_type": "markdown",
   "metadata": {},
   "source": [
    "## *Text and Numerical Data*"
   ]
  },
  {
   "cell_type": "code",
   "execution_count": 77,
   "metadata": {},
   "outputs": [
    {
     "name": "stdout",
     "output_type": "stream",
     "text": [
      "Regression Report\n",
      "\n",
      "r2_score: 0.467\n",
      "explained_variance_score: 0.471\n",
      "mean_absolute_error: 18.827\n",
      "mean_squared_error: 759.934\n",
      "max_error: 222.015\n"
     ]
    }
   ],
   "source": [
    "# Selecting data for the experiment\n",
    "exp5_var = ['Winemaker_notes', 'Review', 'Alcohol_percentage', 'Alcohol_vol', 'Avg_rating', 'N_ratings',\n",
    "            'Price_Feature']\n",
    "exp5_df = clean_df[exp5_var].dropna()\n",
    "\n",
    "# Spliting data into regressor variables and target\n",
    "X5 = exp5_df.iloc[:, :-1]\n",
    "y5 = exp5_df.iloc[:, -1]\n",
    "\n",
    "# Splitting\n",
    "X_train, X_test, y_train, y_test = train_test_split(X5, y5, test_size=0.20, random_state=0)\n",
    "\n",
    "# Creating a preprocessor for the columns\n",
    "exp5_preprocessor = ColumnTransformer([\n",
    "    ('Winemaker_notes', TfidfVectorizer(ngram_range=(1,2)), 'Winemaker_notes'),\n",
    "    ('Review', TfidfVectorizer(ngram_range=(1,2)), 'Review'),\n",
    "    ('Numerical', MinMaxScaler(), X5.select_dtypes('float64').columns.tolist())\n",
    "], remainder='passthrough')\n",
    "\n",
    "# Creating a pipeline\n",
    "exp5_reg = Pipeline([\n",
    "    ('preprocessor', exp5_preprocessor),\n",
    "    ('regressor', LinearRegression())\n",
    "])\n",
    "\n",
    "# Training\n",
    "exp5_reg.fit(X_train, y_train)\n",
    "\n",
    "# Perform predictions\n",
    "y5_pred = exp5_reg.predict(X_test)\n",
    "\n",
    "# Customer Regression Report\n",
    "regression_report(y_test, y5_pred)"
   ]
  },
  {
   "cell_type": "markdown",
   "metadata": {},
   "source": [
    "## *Text and Categorical Data*"
   ]
  },
  {
   "cell_type": "code",
   "execution_count": 78,
   "metadata": {},
   "outputs": [
    {
     "name": "stdout",
     "output_type": "stream",
     "text": [
      "Regression Report\n",
      "\n",
      "r2_score: 0.579\n",
      "explained_variance_score: 0.581\n",
      "mean_absolute_error: 22.672\n",
      "mean_squared_error: 1064.937\n",
      "max_error: 209.542\n"
     ]
    }
   ],
   "source": [
    "# Selecting data for the experiment\n",
    "exp6_var = ['Winemaker_notes', 'Review', 'Variety', 'Country', 'Region', 'Attr_1', 'Price_Feature']\n",
    "exp6_df = clean_df[exp6_var].dropna()\n",
    "\n",
    "# Spliting data into regressor variables and target\n",
    "X6 = exp6_df.iloc[:, :-1]\n",
    "y6 = exp6_df.iloc[:, -1]\n",
    "\n",
    "# Splitting\n",
    "X_train, X_test, y_train, y_test = train_test_split(X6, y6, test_size=0.20, random_state=0)\n",
    "\n",
    "# Creating a preprocessor for the columns\n",
    "exp6_preprocessor = ColumnTransformer([\n",
    "    ('Winemaker_notes', TfidfVectorizer(ngram_range=(1,2)), 'Winemaker_notes'),\n",
    "    ('Review', TfidfVectorizer(ngram_range=(1,2)), 'Review'),\n",
    "    ('Categorical', OneHotEncoder(handle_unknown='ignore'), X6.select_dtypes('object')[2:].columns.tolist())\n",
    "], remainder='passthrough')\n",
    "\n",
    "# Creating a pipeline\n",
    "exp6_reg = Pipeline([\n",
    "    ('preprocessor', exp6_preprocessor),\n",
    "    ('regressor', LinearRegression())\n",
    "])\n",
    "\n",
    "# Training\n",
    "exp6_reg.fit(X_train, y_train)\n",
    "\n",
    "# Perform predictions\n",
    "y6_pred = exp6_reg.predict(X_test)\n",
    "\n",
    "# Customer Regression Report\n",
    "regression_report(y_test, y6_pred)"
   ]
  },
  {
   "cell_type": "markdown",
   "metadata": {},
   "source": [
    "## *Text, Categorical and Numerical Data*"
   ]
  },
  {
   "cell_type": "code",
   "execution_count": 80,
   "metadata": {},
   "outputs": [
    {
     "name": "stdout",
     "output_type": "stream",
     "text": [
      "Regression Report\n",
      "\n",
      "r2_score: 0.57\n",
      "explained_variance_score: 0.574\n",
      "mean_absolute_error: 16.522\n",
      "mean_squared_error: 592.06\n",
      "max_error: 153.042\n"
     ]
    }
   ],
   "source": [
    "# Selecting data for the experiment\n",
    "exp7_var = ['Winemaker_notes', 'Review', 'Variety', 'Country', 'Region', 'Attr_1', \n",
    "            'Alcohol_percentage', 'Alcohol_vol', 'Avg_rating', 'N_ratings', 'Price_Feature']\n",
    "exp7_df = clean_df[exp7_var].dropna()\n",
    "\n",
    "# Spliting data into regressor variables and target\n",
    "X7 = exp7_df.iloc[:, :-1]\n",
    "y7 = exp7_df.iloc[:, -1]\n",
    "\n",
    "# Splitting\n",
    "X_train, X_test, y_train, y_test = train_test_split(X7, y7, test_size=0.20, random_state=0)\n",
    "\n",
    "# Creating a preprocessor for the columns\n",
    "exp7_preprocessor = ColumnTransformer([\n",
    "    ('Winemaker_notes', TfidfVectorizer(ngram_range=(1,2)), 'Winemaker_notes'),\n",
    "    ('Review', TfidfVectorizer(ngram_range=(1,2)), 'Review'),\n",
    "    ('Numerical', MinMaxScaler(), X7.select_dtypes('float64').columns.tolist()),\n",
    "    ('Categorical', OneHotEncoder(handle_unknown='ignore'), X7.select_dtypes('object')[2:].columns.tolist())\n",
    "], remainder='passthrough')\n",
    "\n",
    "# Creating a pipeline\n",
    "exp7_reg = Pipeline([\n",
    "    ('preprocessor', exp7_preprocessor),\n",
    "    ('regressor', LinearRegression())\n",
    "])\n",
    "\n",
    "# Training\n",
    "exp7_reg.fit(X_train, y_train)\n",
    "\n",
    "# Perform predictions\n",
    "y7_pred = exp7_reg.predict(X_test)\n",
    "\n",
    "# Customer Regression Report\n",
    "regression_report(y_test, y7_pred)"
   ]
  }
 ],
 "metadata": {
  "kernelspec": {
   "display_name": "base",
   "language": "python",
   "name": "python3"
  },
  "language_info": {
   "codemirror_mode": {
    "name": "ipython",
    "version": 3
   },
   "file_extension": ".py",
   "mimetype": "text/x-python",
   "name": "python",
   "nbconvert_exporter": "python",
   "pygments_lexer": "ipython3",
   "version": "3.10.9"
  }
 },
 "nbformat": 4,
 "nbformat_minor": 2
}
