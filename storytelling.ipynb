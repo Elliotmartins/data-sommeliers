{
 "cells": [
  {
   "cell_type": "markdown",
   "metadata": {},
   "source": [
    "# **STORYTELLING**"
   ]
  },
  {
   "cell_type": "code",
   "execution_count": 1,
   "metadata": {},
   "outputs": [],
   "source": [
    "import os\n",
    "import pandas as pd\n",
    "import numpy as np\n",
    "import matplotlib.pyplot as plt\n",
    "import seaborn as sns\n",
    "from scipy import stats\n",
    "import re\n",
    "import zipfile\n",
    "\n",
    "from sklearn.ensemble import RandomForestRegressor\n",
    "from sklearn.linear_model import LinearRegression\n",
    "from sklearn.compose import ColumnTransformer\n",
    "from sklearn.preprocessing import MinMaxScaler, StandardScaler\n",
    "from sklearn.model_selection import train_test_split, KFold, cross_val_score\n",
    "from sklearn.pipeline import Pipeline\n",
    "from sklearn.preprocessing import OneHotEncoder\n",
    "from sklearn.feature_extraction.text import TfidfVectorizer\n",
    "from sklearn.metrics import r2_score ,mean_absolute_error, mean_squared_error,  max_error, explained_variance_score\n",
    "from sklearn.decomposition import TruncatedSVD\n",
    "from sklearn.model_selection import GridSearchCV\n",
    "\n",
    "import warnings\n",
    "warnings.filterwarnings('ignore')\n",
    "\n",
    "pd.set_option('display.max_columns', None)"
   ]
  },
  {
   "cell_type": "markdown",
   "metadata": {},
   "source": [
    "## **Data Collection and Cleaning**"
   ]
  },
  {
   "cell_type": "markdown",
   "metadata": {},
   "source": [
    "For this task we performed data scraping on the *wine.com* website. We scraped around 420k revies containing different categorical and numerical attributes for the wine, from which the text reviews of sommeliers and winemaker notes from the wine producer are the ones that stick out the most.\n",
    "\n",
    "The next couple of cells countain the data already cleaned in our EDA and Cleaning notebook."
   ]
  },
  {
   "cell_type": "code",
   "execution_count": 3,
   "metadata": {},
   "outputs": [
    {
     "name": "stdout",
     "output_type": "stream",
     "text": [
      "<class 'pandas.core.frame.DataFrame'>\n",
      "RangeIndex: 421017 entries, 0 to 421016\n",
      "Data columns (total 15 columns):\n",
      " #   Column              Non-Null Count   Dtype  \n",
      "---  ------              --------------   -----  \n",
      " 0   Name                421017 non-null  object \n",
      " 1   Variety             421017 non-null  object \n",
      " 2   Country             421017 non-null  object \n",
      " 3   Region              386109 non-null  object \n",
      " 4   Zone                253609 non-null  object \n",
      " 5   Attr_1              417986 non-null  object \n",
      " 6   Attr_2              76720 non-null   object \n",
      " 7   Winemaker_notes     95234 non-null   object \n",
      " 8   Review              93840 non-null   object \n",
      " 9   Alcohol_percentage  420952 non-null  float64\n",
      " 10  Alcohol_vol         420952 non-null  float64\n",
      " 11  Avg_rating          45970 non-null   float64\n",
      " 12  N_ratings           45970 non-null   float64\n",
      " 13  Price_Feature       419607 non-null  float64\n",
      " 14  Year                418078 non-null  float64\n",
      "dtypes: float64(6), object(9)\n",
      "memory usage: 48.2+ MB\n"
     ]
    }
   ],
   "source": [
    "# Opening zipfile and reading it to a dataframe\n",
    "with zipfile.ZipFile('wine_reviews_clean.zip', 'r') as zipf:\n",
    "    zipf.extractall('')\n",
    "\n",
    "df = pd.read_csv('wine_reviews_clean.csv')\n",
    "\n",
    "os.remove('wine_reviews_clean.csv')\n",
    "\n",
    "df.info()"
   ]
  },
  {
   "cell_type": "code",
   "execution_count": 4,
   "metadata": {},
   "outputs": [
    {
     "data": {
      "text/plain": [
       "Alcohol_percentage_IsOutlier    420998\n",
       "Alcohol_vol_IsOutlier           415141\n",
       "Avg_rating_IsOutlier            420717\n",
       "N_ratings_IsOutlier             420362\n",
       "Price_Feature_IsOutlier         412648\n",
       "Year_IsOutlier                  418243\n",
       "dtype: int64"
      ]
     },
     "execution_count": 4,
     "metadata": {},
     "output_type": "execute_result"
    }
   ],
   "source": [
    "# Check for outliers\n",
    "def get_outliers(data, threshold=3):\n",
    "    z_scores = np.abs(stats.zscore(data, nan_policy='omit'))\n",
    "    outliers = np.where(z_scores > threshold, np.nan, 0)\n",
    "    return outliers\n",
    "\n",
    "outliers = df.select_dtypes('float64').apply(get_outliers, axis=0)\n",
    "\n",
    "outliers_df = df.join(outliers, rsuffix='_IsOutlier')\n",
    "\n",
    "outliers_df.iloc[:, -6:].notna().sum()"
   ]
  },
  {
   "cell_type": "code",
   "execution_count": 9,
   "metadata": {},
   "outputs": [
    {
     "name": "stdout",
     "output_type": "stream",
     "text": [
      "<class 'pandas.core.frame.DataFrame'>\n",
      "Int64Index: 405906 entries, 0 to 421016\n",
      "Data columns (total 15 columns):\n",
      " #   Column              Non-Null Count   Dtype  \n",
      "---  ------              --------------   -----  \n",
      " 0   Name                405906 non-null  object \n",
      " 1   Variety             405906 non-null  object \n",
      " 2   Country             405906 non-null  object \n",
      " 3   Region              371395 non-null  object \n",
      " 4   Zone                241475 non-null  object \n",
      " 5   Attr_1              403100 non-null  object \n",
      " 6   Attr_2              68063 non-null   object \n",
      " 7   Winemaker_notes     89805 non-null   object \n",
      " 8   Review              84430 non-null   object \n",
      " 9   Alcohol_percentage  405841 non-null  float64\n",
      " 10  Alcohol_vol         405841 non-null  float64\n",
      " 11  Avg_rating          44313 non-null   float64\n",
      " 12  N_ratings           44313 non-null   float64\n",
      " 13  Price_Feature       405168 non-null  float64\n",
      " 14  Year                403193 non-null  float64\n",
      "dtypes: float64(6), object(9)\n",
      "memory usage: 49.5+ MB\n"
     ]
    }
   ],
   "source": [
    "# Eliminate this outliers\n",
    "clean_df = outliers_df.dropna(subset=outliers_df.columns.tolist()[-6:])\n",
    "clean_df = clean_df.drop(outliers_df.columns.tolist()[-6:], axis=1)\n",
    "\n",
    "clean_df.info()"
   ]
  },
  {
   "cell_type": "code",
   "execution_count": 6,
   "metadata": {},
   "outputs": [],
   "source": [
    "from nltk import WordNetLemmatizer\n",
    "from nltk.corpus import stopwords\n",
    "import re\n",
    "\n",
    "# Function to delete stopwords from the text\n",
    "stop_words = set(stopwords.words('english'))\n",
    "def strip_stopwords_lemmatize(text, lemmatize=True):\n",
    "    try:\n",
    "        # Convert text into lowercase\n",
    "        text = text.lower()\n",
    "\n",
    "        # Remove non alphanumerical characters and split the text into words\n",
    "        words = re.findall(r'\\b\\w+\\b', text)\n",
    "\n",
    "        # Remove stopwords\n",
    "        clean_words = [word for word in words if word not in stop_words]\n",
    "\n",
    "        if lemmatize:\n",
    "            # Lemmatize using WordNetLemmatizer\n",
    "            WNLemma = WordNetLemmatizer()\n",
    "            lemmatized_words = [WNLemma.lemmatize(word) for word in clean_words]\n",
    "            lemmatized_text = ' '.join(lemmatized_words)\n",
    "            return lemmatized_text\n",
    "        else:\n",
    "            # Cleaned text\n",
    "            cleaned_text = ' '.join(clean_words)\n",
    "            return cleaned_text\n",
    "    except:\n",
    "        # Case when there is no text to analyze\n",
    "        return np.nan"
   ]
  },
  {
   "cell_type": "code",
   "execution_count": 10,
   "metadata": {},
   "outputs": [
    {
     "name": "stdout",
     "output_type": "stream",
     "text": [
      "Made with organically farmed fruit, the La Morra Barolo offers an honest and classic interpretation with wild berries, sour cherry and forest bramble. Hints of licorice and chocolate with plums and berries. Floral. Medium to full body, soft and velvety tannins and a spicy finish. Pair with roasted lamb, veal shank, braised duck, medium aged cheeses.\n",
      "made organically farmed fruit la morra barolo offer honest classic interpretation wild berry sour cherry forest bramble hint licorice chocolate plum berry floral medium full body soft velvety tannin spicy finish pair roasted lamb veal shank braised duck medium aged cheese\n"
     ]
    }
   ],
   "source": [
    "# Cleaning the text of winemaker notes and review\n",
    "print(clean_df.iloc[4]['Winemaker_notes'])\n",
    "\n",
    "clean_df['Winemaker_notes'] = clean_df['Winemaker_notes'].apply(strip_stopwords_lemmatize)\n",
    "clean_df['Review'] = clean_df['Review'].apply(strip_stopwords_lemmatize)\n",
    "\n",
    "print(clean_df.iloc[4]['Winemaker_notes'])"
   ]
  },
  {
   "cell_type": "markdown",
   "metadata": {},
   "source": [
    "## **Model Selection and Evaluation**"
   ]
  },
  {
   "cell_type": "markdown",
   "metadata": {},
   "source": [
    "For this task we decided to take two different approaches. The first one is to get to know if there is a possibility to predict the comsumers perception of the wine based on the Avg_rating. The other approach is if there is a way to predict the price of a wine based on its characteristics and subjective reviews.\n",
    "\n",
    "This way we pretend to have a market understanding of wine so that, in future implementations, the models can be harness to support decision making for wine executives."
   ]
  },
  {
   "cell_type": "markdown",
   "metadata": {},
   "source": [
    "### **Classification**"
   ]
  },
  {
   "cell_type": "markdown",
   "metadata": {},
   "source": [
    "Our efforts in classification lead us to different conclusions.\n",
    "- Text does matter when "
   ]
  },
  {
   "cell_type": "markdown",
   "metadata": {},
   "source": [
    "### **Regression**"
   ]
  }
 ],
 "metadata": {
  "kernelspec": {
   "display_name": "base",
   "language": "python",
   "name": "python3"
  },
  "language_info": {
   "codemirror_mode": {
    "name": "ipython",
    "version": 3
   },
   "file_extension": ".py",
   "mimetype": "text/x-python",
   "name": "python",
   "nbconvert_exporter": "python",
   "pygments_lexer": "ipython3",
   "version": "3.10.9"
  }
 },
 "nbformat": 4,
 "nbformat_minor": 2
}
