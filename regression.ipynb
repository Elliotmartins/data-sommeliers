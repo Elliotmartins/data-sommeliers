{
 "cells": [
  {
   "cell_type": "code",
   "execution_count": 39,
   "metadata": {},
   "outputs": [],
   "source": [
    "import os\n",
    "import pandas as pd\n",
    "import numpy as np\n",
    "import matplotlib.pyplot as plt\n",
    "import seaborn as sns\n",
    "from scipy import stats\n",
    "import re\n",
    "import zipfile\n",
    "\n",
    "\n",
    "from sklearn.ensemble import RandomForestClassifier\n",
    "from sklearn.linear_model import LinearRegression\n",
    "from sklearn.compose import ColumnTransformer\n",
    "from sklearn.preprocessing import MinMaxScaler, RobustScaler\n",
    "from sklearn.naive_bayes import ComplementNB\n",
    "from sklearn.model_selection import train_test_split\n",
    "from sklearn.model_selection import KFold\n",
    "from sklearn.feature_extraction.text import TfidfVectorizer\n",
    "from sklearn.metrics import classification_report\n",
    "from sklearn.pipeline import make_pipeline\n",
    "from sklearn.preprocessing import OneHotEncoder\n",
    "from imblearn.pipeline import Pipeline as ImbalancedPipeline\n",
    "from imblearn.over_sampling import RandomOverSampler\n",
    "from sklearn.metrics import r2_score\n",
    "\n",
    "\n",
    "\n",
    "import warnings\n",
    "warnings.filterwarnings('ignore')\n",
    "\n",
    "pd.set_option('display.max_columns', None)"
   ]
  },
  {
   "cell_type": "code",
   "execution_count": 8,
   "metadata": {},
   "outputs": [
    {
     "name": "stdout",
     "output_type": "stream",
     "text": [
      "<class 'pandas.core.frame.DataFrame'>\n",
      "RangeIndex: 421017 entries, 0 to 421016\n",
      "Data columns (total 15 columns):\n",
      " #   Column              Non-Null Count   Dtype  \n",
      "---  ------              --------------   -----  \n",
      " 0   Name                421017 non-null  object \n",
      " 1   Variety             421017 non-null  object \n",
      " 2   Country             421017 non-null  object \n",
      " 3   Region              386109 non-null  object \n",
      " 4   Zone                253609 non-null  object \n",
      " 5   Attr_1              417986 non-null  object \n",
      " 6   Attr_2              76720 non-null   object \n",
      " 7   Winemaker_notes     95234 non-null   object \n",
      " 8   Review              93840 non-null   object \n",
      " 9   Alcohol_percentage  420952 non-null  float64\n",
      " 10  Alcohol_vol         420952 non-null  float64\n",
      " 11  Avg_rating          45970 non-null   float64\n",
      " 12  N_ratings           45970 non-null   float64\n",
      " 13  Price_Feature       419607 non-null  float64\n",
      " 14  Year                418078 non-null  float64\n",
      "dtypes: float64(6), object(9)\n",
      "memory usage: 48.2+ MB\n"
     ]
    },
    {
     "data": {
      "text/html": [
       "<div>\n",
       "<style scoped>\n",
       "    .dataframe tbody tr th:only-of-type {\n",
       "        vertical-align: middle;\n",
       "    }\n",
       "\n",
       "    .dataframe tbody tr th {\n",
       "        vertical-align: top;\n",
       "    }\n",
       "\n",
       "    .dataframe thead th {\n",
       "        text-align: right;\n",
       "    }\n",
       "</style>\n",
       "<table border=\"1\" class=\"dataframe\">\n",
       "  <thead>\n",
       "    <tr style=\"text-align: right;\">\n",
       "      <th></th>\n",
       "      <th>Name</th>\n",
       "      <th>Variety</th>\n",
       "      <th>Country</th>\n",
       "      <th>Region</th>\n",
       "      <th>Zone</th>\n",
       "      <th>Attr_1</th>\n",
       "      <th>Attr_2</th>\n",
       "      <th>Winemaker_notes</th>\n",
       "      <th>Review</th>\n",
       "      <th>Alcohol_percentage</th>\n",
       "      <th>Alcohol_vol</th>\n",
       "      <th>Avg_rating</th>\n",
       "      <th>N_ratings</th>\n",
       "      <th>Price_Feature</th>\n",
       "      <th>Year</th>\n",
       "    </tr>\n",
       "  </thead>\n",
       "  <tbody>\n",
       "    <tr>\n",
       "      <th>0</th>\n",
       "      <td>M. Chapoutier La Combe Pilate Esteban Brut Nature</td>\n",
       "      <td>Vintage Sparkling Wine</td>\n",
       "      <td>France</td>\n",
       "      <td>Rhone</td>\n",
       "      <td>NaN</td>\n",
       "      <td>Sparkling &amp; Champagne</td>\n",
       "      <td>Green Wine</td>\n",
       "      <td>NaN</td>\n",
       "      <td>NaN</td>\n",
       "      <td>10.0</td>\n",
       "      <td>750.0</td>\n",
       "      <td>5.0</td>\n",
       "      <td>15.0</td>\n",
       "      <td>49.99</td>\n",
       "      <td>2020.0</td>\n",
       "    </tr>\n",
       "    <tr>\n",
       "      <th>1</th>\n",
       "      <td>Vinos de Arganza Alvarez de Toledo Godello</td>\n",
       "      <td>Godello</td>\n",
       "      <td>Spain</td>\n",
       "      <td>NaN</td>\n",
       "      <td>NaN</td>\n",
       "      <td>White Wine</td>\n",
       "      <td>NaN</td>\n",
       "      <td>This wine has a bright yellow color with fresh...</td>\n",
       "      <td>NaN</td>\n",
       "      <td>0.0</td>\n",
       "      <td>750.0</td>\n",
       "      <td>5.0</td>\n",
       "      <td>13.0</td>\n",
       "      <td>10.99</td>\n",
       "      <td>2020.0</td>\n",
       "    </tr>\n",
       "    <tr>\n",
       "      <th>2</th>\n",
       "      <td>Louis Latour Vosne-Romanee</td>\n",
       "      <td>Pinot Noir</td>\n",
       "      <td>France</td>\n",
       "      <td>Burgundy</td>\n",
       "      <td>Cote d'Or</td>\n",
       "      <td>Red Wine</td>\n",
       "      <td>Boutique</td>\n",
       "      <td>NaN</td>\n",
       "      <td>Toasty, spicy aromas introduce this rich, silk...</td>\n",
       "      <td>0.0</td>\n",
       "      <td>750.0</td>\n",
       "      <td>5.0</td>\n",
       "      <td>20.0</td>\n",
       "      <td>119.99</td>\n",
       "      <td>2019.0</td>\n",
       "    </tr>\n",
       "    <tr>\n",
       "      <th>3</th>\n",
       "      <td>Chateau Bouscaut</td>\n",
       "      <td>Bordeaux Red Blends</td>\n",
       "      <td>France</td>\n",
       "      <td>Bordeaux</td>\n",
       "      <td>Pessac-Leognan</td>\n",
       "      <td>Red Wine</td>\n",
       "      <td>NaN</td>\n",
       "      <td>Blend: 61% Merlot, 33% Cabernet Sauvignon, 6% ...</td>\n",
       "      <td>This estate continues to produce brilliant win...</td>\n",
       "      <td>14.5</td>\n",
       "      <td>750.0</td>\n",
       "      <td>5.0</td>\n",
       "      <td>17.0</td>\n",
       "      <td>44.99</td>\n",
       "      <td>2020.0</td>\n",
       "    </tr>\n",
       "    <tr>\n",
       "      <th>4</th>\n",
       "      <td>Brandini Barolo La Morra</td>\n",
       "      <td>Nebbiolo</td>\n",
       "      <td>Italy</td>\n",
       "      <td>Piedmont</td>\n",
       "      <td>Barolo</td>\n",
       "      <td>Red Wine</td>\n",
       "      <td>Green Wine</td>\n",
       "      <td>Made with organically farmed fruit, the La Mor...</td>\n",
       "      <td>Aromas of cherries, strawberries and tar with ...</td>\n",
       "      <td>14.0</td>\n",
       "      <td>750.0</td>\n",
       "      <td>5.0</td>\n",
       "      <td>19.0</td>\n",
       "      <td>63.99</td>\n",
       "      <td>2015.0</td>\n",
       "    </tr>\n",
       "  </tbody>\n",
       "</table>\n",
       "</div>"
      ],
      "text/plain": [
       "                                                Name                 Variety  \\\n",
       "0  M. Chapoutier La Combe Pilate Esteban Brut Nature  Vintage Sparkling Wine   \n",
       "1         Vinos de Arganza Alvarez de Toledo Godello                 Godello   \n",
       "2                         Louis Latour Vosne-Romanee              Pinot Noir   \n",
       "3                                   Chateau Bouscaut     Bordeaux Red Blends   \n",
       "4                           Brandini Barolo La Morra                Nebbiolo   \n",
       "\n",
       "  Country    Region            Zone                 Attr_1      Attr_2  \\\n",
       "0  France     Rhone             NaN  Sparkling & Champagne  Green Wine   \n",
       "1   Spain       NaN             NaN             White Wine         NaN   \n",
       "2  France  Burgundy       Cote d'Or               Red Wine    Boutique   \n",
       "3  France  Bordeaux  Pessac-Leognan               Red Wine         NaN   \n",
       "4   Italy  Piedmont          Barolo               Red Wine  Green Wine   \n",
       "\n",
       "                                     Winemaker_notes  \\\n",
       "0                                                NaN   \n",
       "1  This wine has a bright yellow color with fresh...   \n",
       "2                                                NaN   \n",
       "3  Blend: 61% Merlot, 33% Cabernet Sauvignon, 6% ...   \n",
       "4  Made with organically farmed fruit, the La Mor...   \n",
       "\n",
       "                                              Review  Alcohol_percentage  \\\n",
       "0                                                NaN                10.0   \n",
       "1                                                NaN                 0.0   \n",
       "2  Toasty, spicy aromas introduce this rich, silk...                 0.0   \n",
       "3  This estate continues to produce brilliant win...                14.5   \n",
       "4  Aromas of cherries, strawberries and tar with ...                14.0   \n",
       "\n",
       "   Alcohol_vol  Avg_rating  N_ratings  Price_Feature    Year  \n",
       "0        750.0         5.0       15.0          49.99  2020.0  \n",
       "1        750.0         5.0       13.0          10.99  2020.0  \n",
       "2        750.0         5.0       20.0         119.99  2019.0  \n",
       "3        750.0         5.0       17.0          44.99  2020.0  \n",
       "4        750.0         5.0       19.0          63.99  2015.0  "
      ]
     },
     "execution_count": 8,
     "metadata": {},
     "output_type": "execute_result"
    }
   ],
   "source": [
    "# Opening zipfile and reading it to a dataframe\n",
    "with zipfile.ZipFile('wine_reviews_clean.zip', 'r') as zipf:\n",
    "    zipf.extractall('')\n",
    "\n",
    "df = pd.read_csv('wine_reviews_clean.csv')\n",
    "\n",
    "os.remove('wine_reviews_clean.csv')\n",
    "\n",
    "df.info()\n",
    "df.head()"
   ]
  },
  {
   "cell_type": "code",
   "execution_count": 9,
   "metadata": {},
   "outputs": [
    {
     "name": "stdout",
     "output_type": "stream",
     "text": [
      "<class 'pandas.core.frame.DataFrame'>\n",
      "RangeIndex: 421017 entries, 0 to 421016\n",
      "Data columns (total 6 columns):\n",
      " #   Column              Non-Null Count   Dtype  \n",
      "---  ------              --------------   -----  \n",
      " 0   Alcohol_percentage  420952 non-null  float64\n",
      " 1   Alcohol_vol         420952 non-null  float64\n",
      " 2   Avg_rating          45970 non-null   float64\n",
      " 3   N_ratings           45970 non-null   float64\n",
      " 4   Price_Feature       419607 non-null  float64\n",
      " 5   Year                418078 non-null  float64\n",
      "dtypes: float64(6)\n",
      "memory usage: 19.3 MB\n"
     ]
    }
   ],
   "source": [
    "# Inspecting the numerical columns to check whether is need to engineer this features\n",
    "df3 = df.copy()\n",
    "df3.select_dtypes('float64').info()"
   ]
  },
  {
   "cell_type": "code",
   "execution_count": 10,
   "metadata": {},
   "outputs": [
    {
     "data": {
      "text/plain": [
       "Alcohol_percentage_IsOutlier    420998\n",
       "Alcohol_vol_IsOutlier           415141\n",
       "Avg_rating_IsOutlier            420717\n",
       "N_ratings_IsOutlier             420362\n",
       "Price_Feature_IsOutlier         412648\n",
       "Year_IsOutlier                  418243\n",
       "dtype: int64"
      ]
     },
     "execution_count": 10,
     "metadata": {},
     "output_type": "execute_result"
    }
   ],
   "source": [
    "# Check for outliers\n",
    "def get_outliers(data, threshold=3):\n",
    "    z_scores = np.abs(stats.zscore(data, nan_policy='omit'))\n",
    "    outliers = np.where(z_scores > threshold, np.nan, 0)\n",
    "    return outliers\n",
    "\n",
    "outliers = df3.select_dtypes('float64').apply(get_outliers, axis=0)\n",
    "\n",
    "outliers_df = df3.join(outliers, rsuffix='_IsOutlier')\n",
    "\n",
    "outliers_df.iloc[:, -6:].notna().sum()"
   ]
  },
  {
   "cell_type": "code",
   "execution_count": 11,
   "metadata": {},
   "outputs": [
    {
     "name": "stdout",
     "output_type": "stream",
     "text": [
      "<class 'pandas.core.frame.DataFrame'>\n",
      "Int64Index: 405906 entries, 0 to 421016\n",
      "Data columns (total 15 columns):\n",
      " #   Column              Non-Null Count   Dtype  \n",
      "---  ------              --------------   -----  \n",
      " 0   Name                405906 non-null  object \n",
      " 1   Variety             405906 non-null  object \n",
      " 2   Country             405906 non-null  object \n",
      " 3   Region              371395 non-null  object \n",
      " 4   Zone                241475 non-null  object \n",
      " 5   Attr_1              403100 non-null  object \n",
      " 6   Attr_2              68063 non-null   object \n",
      " 7   Winemaker_notes     89805 non-null   object \n",
      " 8   Review              84430 non-null   object \n",
      " 9   Alcohol_percentage  405841 non-null  float64\n",
      " 10  Alcohol_vol         405841 non-null  float64\n",
      " 11  Avg_rating          44313 non-null   float64\n",
      " 12  N_ratings           44313 non-null   float64\n",
      " 13  Price_Feature       405168 non-null  float64\n",
      " 14  Year                403193 non-null  float64\n",
      "dtypes: float64(6), object(9)\n",
      "memory usage: 49.5+ MB\n"
     ]
    }
   ],
   "source": [
    "# Eliminate this outliers\n",
    "clean_df = outliers_df.dropna(subset=outliers_df.columns.tolist()[-6:])\n",
    "clean_df = clean_df.drop(outliers_df.columns.tolist()[-6:], axis=1)\n",
    "\n",
    "clean_df.info()"
   ]
  },
  {
   "cell_type": "code",
   "execution_count": 12,
   "metadata": {},
   "outputs": [
    {
     "name": "stdout",
     "output_type": "stream",
     "text": [
      "[ColumnTransformer]  (1 of 4) Processing Alcohol_percentage, total=   0.0s\n",
      "[ColumnTransformer] ... (2 of 4) Processing Alcohol_vol, total=   0.0s\n",
      "[ColumnTransformer] . (3 of 4) Processing Price_Feature, total=   0.0s\n",
      "[ColumnTransformer] .......... (4 of 4) Processing Year, total=   0.0s\n",
      "[Pipeline] ...... (step 1 of 3) Processing preprocessor, total=   0.0s\n",
      "[Pipeline] .......... (step 2 of 3) Processing sampling, total=   2.8s\n",
      "[Pipeline] ............... (step 3 of 3) Processing clf, total=   5.4s\n",
      "Classification Report:\n",
      "              precision    recall  f1-score   support\n",
      "\n",
      "        Good       0.09      0.69      0.16      3631\n",
      "       Great       0.98      0.68      0.80     76862\n",
      "\n",
      "    accuracy                           0.68     80493\n",
      "   macro avg       0.54      0.69      0.48     80493\n",
      "weighted avg       0.94      0.68      0.77     80493\n",
      "\n"
     ]
    }
   ],
   "source": [
    "# Test Numerical Classification\n",
    "df6 = clean_df.copy()\n",
    "df6 = df6.iloc[:, 9:]\n",
    "df6 = df6.drop(df6[df6['Avg_rating'] < 2.5].index)\n",
    "df6['Rating_class'] = np.where(df6['Avg_rating'] < 4.0, 'Good', 'Great')\n",
    "\n",
    "# Dataset for experimentation\n",
    "exp3 = df6.drop(['Avg_rating', 'N_ratings'], axis=1).dropna(subset=['Alcohol_percentage', 'Alcohol_vol', \n",
    "                                                                    'Price_Feature', 'Year'])\n",
    "\n",
    "# Separating classifiers and target\n",
    "X = exp3.iloc[:, :-1]\n",
    "y = exp3.iloc[:, -1]\n",
    "\n",
    "# Train test split\n",
    "X_train, X_test, y_train, y_test = train_test_split(X, y, test_size=0.20, stratify=y, random_state=0)\n",
    "\n",
    "# Create a preprocessor using ColumnTransformer\n",
    "preprocessor = ColumnTransformer(\n",
    "    transformers=[\n",
    "        ('Alcohol_percentage', MinMaxScaler(), ['Alcohol_percentage']),\n",
    "        ('Alcohol_vol', MinMaxScaler(), ['Alcohol_vol']),\n",
    "        ('Price_Feature', MinMaxScaler(), ['Price_Feature']),\n",
    "        ('Year', MinMaxScaler(), ['Year'])\n",
    "    ],\n",
    "    remainder='passthrough',  # Pass through other columns as is\n",
    "    verbose=True\n",
    ")\n",
    "\n",
    "# Create a pipeline with the preprocessor\n",
    "exp3_clf = ImbalancedPipeline([\n",
    "    ('preprocessor', preprocessor),\n",
    "    ('sampling', RandomOverSampler(sampling_strategy='not majority', random_state=0)),\n",
    "    ('clf', ComplementNB())\n",
    "], verbose=True)\n",
    "\n",
    "# Fit the pipeline on the training data\n",
    "exp3_clf.fit(X_train, y_train)\n",
    "\n",
    "# Make predictions on the test data\n",
    "y_pred = exp3_clf.predict(X_test)\n",
    "\n",
    "# Evaluate the classifier\n",
    "print(\"Classification Report:\")\n",
    "print(classification_report(y_test, y_pred))"
   ]
  },
  {
   "cell_type": "markdown",
   "metadata": {},
   "source": [
    "## Numerical Regression\n",
    "\n",
    "Experiment to try and predict price_feature with linear regression, using only the numerical features for training."
   ]
  },
  {
   "cell_type": "code",
   "execution_count": 49,
   "metadata": {},
   "outputs": [
    {
     "name": "stdout",
     "output_type": "stream",
     "text": [
      "[ColumnTransformer]  (1 of 4) Processing Alcohol_percentage, total=   0.0s\n",
      "[ColumnTransformer] ... (2 of 4) Processing Alcohol_vol, total=   0.0s\n",
      "[ColumnTransformer] .......... (3 of 4) Processing Year, total=   0.0s\n",
      "[ColumnTransformer] ..... (4 of 4) Processing remainder, total=   0.0s\n",
      "[ColumnTransformer]  (1 of 4) Processing Alcohol_percentage, total=   0.0s\n",
      "[ColumnTransformer] ... (2 of 4) Processing Alcohol_vol, total=   0.0s\n",
      "[ColumnTransformer] .......... (3 of 4) Processing Year, total=   0.0s\n",
      "[ColumnTransformer] ..... (4 of 4) Processing remainder, total=   0.0s\n",
      "[ColumnTransformer]  (1 of 4) Processing Alcohol_percentage, total=   0.0s\n",
      "[ColumnTransformer] ... (2 of 4) Processing Alcohol_vol, total=   0.0s\n",
      "[ColumnTransformer] .......... (3 of 4) Processing Year, total=   0.0s\n",
      "[ColumnTransformer] ..... (4 of 4) Processing remainder, total=   0.0s\n",
      "[ColumnTransformer]  (1 of 4) Processing Alcohol_percentage, total=   0.0s\n",
      "[ColumnTransformer] ... (2 of 4) Processing Alcohol_vol, total=   0.0s\n",
      "[ColumnTransformer] .......... (3 of 4) Processing Year, total=   0.0s\n",
      "[ColumnTransformer] ..... (4 of 4) Processing remainder, total=   0.0s\n",
      "[ColumnTransformer]  (1 of 4) Processing Alcohol_percentage, total=   0.0s\n",
      "[ColumnTransformer] ... (2 of 4) Processing Alcohol_vol, total=   0.0s\n",
      "[ColumnTransformer] .......... (3 of 4) Processing Year, total=   0.0s\n",
      "[ColumnTransformer] ..... (4 of 4) Processing remainder, total=   0.0s\n",
      "Mean R^2 score for linear regression model with k-fold cross-validation: 0.19468496027455426\n"
     ]
    }
   ],
   "source": [
    "df7 = clean_df.copy()\n",
    "df7 = df7.iloc[:, 9:]\n",
    "df7['Price'] = df7['Price_Feature']\n",
    "\n",
    "exp1 = df7.drop(['Price_Feature'], axis=1).dropna()\n",
    "exp1.head()\n",
    "\n",
    "X = exp1.iloc[:,:5]\n",
    "y = exp1.iloc[:,5]\n",
    "\n",
    "# Split data\n",
    "X_train, X_test, y_train, y_test = train_test_split(X, y, test_size=0.20, random_state=0)\n",
    "\n",
    "\n",
    "preprocessor = ColumnTransformer(\n",
    "    transformers=[\n",
    "        ('Alcohol_percentage', MinMaxScaler(), ['Alcohol_percentage']),\n",
    "        ('Alcohol_vol', MinMaxScaler(), ['Alcohol_vol']),\n",
    "        ('Year', MinMaxScaler(), ['Year'])\n",
    "    ],\n",
    "    remainder='passthrough',  # Pass through other columns as is\n",
    "    verbose=True\n",
    ")\n",
    "\n",
    "# Cross validation\n",
    "kf = KFold(n_splits=5)\n",
    "\n",
    "# Create pipeline applying thew preprocessor\n",
    "reg_model = make_pipeline(\n",
    "    preprocessor,\n",
    "    LinearRegression()\n",
    ")\n",
    "\n",
    "# Perform k-fold cross-validation\n",
    "r2_scores = []\n",
    "for train_index, test_index in kf.split(X_train, y_train):\n",
    "    X_fold_train, X_fold_val = X_train.iloc[train_index], X_train.iloc[test_index]\n",
    "    y_fold_train, y_fold_val = y_train.iloc[train_index], y_train.iloc[test_index]\n",
    "    \n",
    "    # Fit and evaluate the model for each fold\n",
    "    reg_model.fit(X_fold_train, y_fold_train)\n",
    "    y_fold_pred = reg_model.predict(X_fold_val)\n",
    "    r2_fold = r2_score(y_fold_val, y_fold_pred)\n",
    "    r2_scores.append(r2_fold)\n",
    "\n",
    "# Calculate the mean R^2 score across folds\n",
    "mean_r2 = np.mean(r2_scores)\n",
    "\n",
    "print(f'Mean R^2 score for linear regression model with k-fold cross-validation: {mean_r2}')\n"
   ]
  },
  {
   "cell_type": "code",
   "execution_count": 47,
   "metadata": {},
   "outputs": [
    {
     "data": {
      "text/plain": [
       "'X_train'"
      ]
     },
     "metadata": {},
     "output_type": "display_data"
    },
    {
     "data": {
      "text/plain": [
       "(34802, 5)"
      ]
     },
     "metadata": {},
     "output_type": "display_data"
    },
    {
     "data": {
      "text/plain": [
       "'y_train'"
      ]
     },
     "metadata": {},
     "output_type": "display_data"
    },
    {
     "data": {
      "text/plain": [
       "(34802,)"
      ]
     },
     "metadata": {},
     "output_type": "display_data"
    },
    {
     "data": {
      "text/plain": [
       "'X_test'"
      ]
     },
     "metadata": {},
     "output_type": "display_data"
    },
    {
     "data": {
      "text/plain": [
       "(8701, 5)"
      ]
     },
     "metadata": {},
     "output_type": "display_data"
    },
    {
     "data": {
      "text/plain": [
       "'y_test'"
      ]
     },
     "metadata": {},
     "output_type": "display_data"
    },
    {
     "data": {
      "text/plain": [
       "(8701,)"
      ]
     },
     "metadata": {},
     "output_type": "display_data"
    }
   ],
   "source": [
    "display('X_train', X_train.shape)\n",
    "display('y_train', y_train.shape)\n",
    "display('X_test', X_test.shape)\n",
    "display('y_test', y_test.shape)\n",
    "\n"
   ]
  },
  {
   "cell_type": "code",
   "execution_count": 33,
   "metadata": {},
   "outputs": [
    {
     "data": {
      "text/plain": [
       "((43503, 5),\n",
       "    Alcohol_percentage  Alcohol_vol  Avg_rating  N_ratings    Year\n",
       " 0                10.0        750.0         5.0       15.0  2020.0\n",
       " 1                 0.0        750.0         5.0       13.0  2020.0\n",
       " 2                 0.0        750.0         5.0       20.0  2019.0\n",
       " 3                14.5        750.0         5.0       17.0  2020.0\n",
       " 4                14.0        750.0         5.0       19.0  2015.0)"
      ]
     },
     "execution_count": 33,
     "metadata": {},
     "output_type": "execute_result"
    }
   ],
   "source": [
    "X.shape, X.head()"
   ]
  },
  {
   "cell_type": "code",
   "execution_count": null,
   "metadata": {},
   "outputs": [],
   "source": []
  }
 ],
 "metadata": {
  "kernelspec": {
   "display_name": "kth_env",
   "language": "python",
   "name": "kth_env"
  },
  "language_info": {
   "codemirror_mode": {
    "name": "ipython",
    "version": 3
   },
   "file_extension": ".py",
   "mimetype": "text/x-python",
   "name": "python",
   "nbconvert_exporter": "python",
   "pygments_lexer": "ipython3",
   "version": "3.9.9"
  },
  "orig_nbformat": 4
 },
 "nbformat": 4,
 "nbformat_minor": 2
}
